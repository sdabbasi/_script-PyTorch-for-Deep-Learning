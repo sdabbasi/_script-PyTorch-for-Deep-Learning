{
 "cells": [
  {
   "cell_type": "code",
   "execution_count": null,
   "id": "fd02ab2c",
   "metadata": {},
   "outputs": [],
   "source": [
    "import torch\n",
    "import numpy as np\n",
    "import matplotlib.pyplot as plt\n",
    "\n",
    "import torch.nn as nn"
   ]
  },
  {
   "cell_type": "code",
   "execution_count": null,
   "id": "90c262c2",
   "metadata": {},
   "outputs": [],
   "source": [
    "X = torch.linspace(1.0, 50., 50).reshape(-1, 1)\n",
    "X"
   ]
  },
  {
   "cell_type": "code",
   "execution_count": null,
   "id": "276879d3",
   "metadata": {},
   "outputs": [],
   "source": [
    "torch.manual_seed(71)\n",
    "e = torch.randint(-8, 9, (50, 1), dtype=torch.float)\n",
    "e"
   ]
  },
  {
   "cell_type": "code",
   "execution_count": null,
   "id": "c8524199",
   "metadata": {},
   "outputs": [],
   "source": [
    "y = 2*X + 1 + e"
   ]
  },
  {
   "cell_type": "code",
   "execution_count": null,
   "id": "db5de435",
   "metadata": {},
   "outputs": [],
   "source": [
    "plt.scatter(X.numpy(), y.numpy())"
   ]
  },
  {
   "cell_type": "code",
   "execution_count": null,
   "id": "3bb6cc42",
   "metadata": {},
   "outputs": [],
   "source": [
    "class Model(nn.Module):\n",
    "    def __init__(self, in_features, out_features):\n",
    "        super().__init__()\n",
    "        self.linear = nn.Linear(in_features, out_features)\n",
    "        \n",
    "    def forward(self, x):\n",
    "        y_pred = self.linear(x)\n",
    "        return y_pred\n",
    "    "
   ]
  },
  {
   "cell_type": "code",
   "execution_count": null,
   "id": "5b12c13e",
   "metadata": {},
   "outputs": [],
   "source": [
    "torch.manual_seed(59)\n",
    "model = Model(1, 1)"
   ]
  },
  {
   "cell_type": "code",
   "execution_count": null,
   "id": "bc5d7ea7",
   "metadata": {},
   "outputs": [],
   "source": [
    "for name, param in model.named_parameters():\n",
    "    print(name, '\\t', param.item())"
   ]
  },
  {
   "cell_type": "code",
   "execution_count": null,
   "id": "b17e9538",
   "metadata": {},
   "outputs": [],
   "source": []
  },
  {
   "cell_type": "code",
   "execution_count": null,
   "id": "6215e464",
   "metadata": {},
   "outputs": [],
   "source": [
    "# check the currently non-trained model's forward function on a single input\n",
    "x = torch.tensor([2.0])\n",
    "model.forward(x)\n",
    "# 2.0 * 0.10597813129425049 + 0.9637961387634277 = 1.1758"
   ]
  },
  {
   "cell_type": "code",
   "execution_count": null,
   "id": "2b7112d9",
   "metadata": {},
   "outputs": [],
   "source": []
  },
  {
   "cell_type": "code",
   "execution_count": null,
   "id": "2cc9210d",
   "metadata": {},
   "outputs": [],
   "source": [
    "# check the currently non-trained model performance\n",
    "x1 = np.linspace(0.0, 50.0, 50)\n",
    "w1 = model.linear.weight.item()\n",
    "b1 = model.linear.bias.item()\n",
    "y1 = w1 * x1 + b1\n",
    "y1"
   ]
  },
  {
   "cell_type": "code",
   "execution_count": null,
   "id": "761b083f",
   "metadata": {},
   "outputs": [],
   "source": [
    "plt.plot(x1, y1, 'r', label='non-trained model predictions')\n",
    "plt.scatter(X.numpy(), y.numpy(), label='input data')\n",
    "plt.legend()"
   ]
  },
  {
   "cell_type": "code",
   "execution_count": null,
   "id": "5b6d7cbd",
   "metadata": {},
   "outputs": [],
   "source": []
  },
  {
   "cell_type": "code",
   "execution_count": null,
   "id": "93a73dc1",
   "metadata": {},
   "outputs": [],
   "source": [
    "# train the model and check the performance again\n",
    "criterion = nn.MSELoss()\n",
    "optimizer = torch.optim.SGD(model.parameters(), lr=0.001)"
   ]
  },
  {
   "cell_type": "code",
   "execution_count": null,
   "id": "f2f27fa9",
   "metadata": {},
   "outputs": [],
   "source": [
    "epochs = 50\n",
    "losses = []\n",
    "\n",
    "for i in range(50):\n",
    "    i += 1\n",
    "    \n",
    "    y_pred = model.forward(X)\n",
    "    loss = criterion(y_pred, y)\n",
    "    losses.append(loss)\n",
    "    \n",
    "    print(f\"epoch {i}, loss:{loss.item()}, weight:{model.linear.weight.item()}, bias:{model.linear.bias.item()}\")\n",
    "    \n",
    "    optimizer.zero_grad()\n",
    "    loss.backward()\n",
    "    optimizer.step()"
   ]
  },
  {
   "cell_type": "code",
   "execution_count": null,
   "id": "e1ea575b",
   "metadata": {},
   "outputs": [],
   "source": [
    "plt.plot(range(epochs), losses)\n",
    "plt.ylabel('MSE LOSS')\n",
    "plt.xlabel('Epoch')"
   ]
  },
  {
   "cell_type": "code",
   "execution_count": null,
   "id": "958ca0d5",
   "metadata": {},
   "outputs": [],
   "source": [
    "x2 = np.linspace(0.0, 50.0, 50)\n",
    "w2 = model.linear.weight.item()\n",
    "b2 = model.linear.bias.item()\n",
    "predicted_y = w2 * x2 + b2"
   ]
  },
  {
   "cell_type": "code",
   "execution_count": null,
   "id": "6ba69003",
   "metadata": {},
   "outputs": [],
   "source": [
    "plt.plot(x2, predicted_y, 'r', label='well-trained model predictions')\n",
    "plt.scatter(X.numpy(), y.numpy(), label='input data')\n",
    "plt.legend()"
   ]
  },
  {
   "cell_type": "code",
   "execution_count": null,
   "id": "8a2b9de9",
   "metadata": {},
   "outputs": [],
   "source": []
  },
  {
   "cell_type": "code",
   "execution_count": null,
   "id": "681a56b7",
   "metadata": {},
   "outputs": [],
   "source": []
  }
 ],
 "metadata": {
  "kernelspec": {
   "display_name": "Python 3.8.11 ('myMLEnv')",
   "language": "python",
   "name": "python3"
  },
  "language_info": {
   "codemirror_mode": {
    "name": "ipython",
    "version": 3
   },
   "file_extension": ".py",
   "mimetype": "text/x-python",
   "name": "python",
   "nbconvert_exporter": "python",
   "pygments_lexer": "ipython3",
   "version": "3.8.11"
  },
  "vscode": {
   "interpreter": {
    "hash": "418a5ed4ed6d8198b840b61453495c26d507d70d3841dd181a7388aaa4474a5c"
   }
  }
 },
 "nbformat": 4,
 "nbformat_minor": 5
}
