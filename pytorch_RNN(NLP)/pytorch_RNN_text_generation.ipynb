{
 "cells": [
  {
   "cell_type": "code",
   "execution_count": null,
   "id": "aa466778",
   "metadata": {},
   "outputs": [],
   "source": [
    "import torch\n",
    "from torch import nn\n",
    "import torch.nn.functional as F\n",
    "import numpy as np\n",
    "import matplotlib.pyplot as plt"
   ]
  },
  {
   "cell_type": "code",
   "execution_count": null,
   "id": "0b3316cd",
   "metadata": {},
   "outputs": [],
   "source": []
  },
  {
   "cell_type": "code",
   "execution_count": null,
   "id": "f68590f9",
   "metadata": {},
   "outputs": [],
   "source": [
    "with open('../data/nlp_files/shakespeare.txt', encoding='utf-8') as f:\n",
    "    text = f.read()"
   ]
  },
  {
   "cell_type": "code",
   "execution_count": null,
   "id": "6bf159fa",
   "metadata": {},
   "outputs": [],
   "source": [
    "type(text)"
   ]
  },
  {
   "cell_type": "code",
   "execution_count": null,
   "id": "a041440c",
   "metadata": {},
   "outputs": [],
   "source": [
    "len(text)"
   ]
  },
  {
   "cell_type": "code",
   "execution_count": null,
   "id": "e1bc0ce3",
   "metadata": {},
   "outputs": [],
   "source": [
    "text[:1000]"
   ]
  },
  {
   "cell_type": "code",
   "execution_count": null,
   "id": "773a3f86",
   "metadata": {},
   "outputs": [],
   "source": [
    "all_characters = set(text)\n",
    "len(all_characters)"
   ]
  },
  {
   "cell_type": "code",
   "execution_count": null,
   "id": "5777bcd0",
   "metadata": {},
   "outputs": [],
   "source": [
    "# have to create a pair of encoder and decoder similar to two look up tables:\n",
    "\n",
    "# num --> letter\n",
    "decoder = dict(enumerate(all_characters))\n",
    "\n",
    "# letter --> num\n",
    "encoder = {char:ind for ind, char in decoder.items()}"
   ]
  },
  {
   "cell_type": "code",
   "execution_count": null,
   "id": "0fe774cc",
   "metadata": {},
   "outputs": [],
   "source": [
    "encoder"
   ]
  },
  {
   "cell_type": "code",
   "execution_count": null,
   "id": "85bba9af",
   "metadata": {},
   "outputs": [],
   "source": [
    "decoder"
   ]
  },
  {
   "cell_type": "code",
   "execution_count": null,
   "id": "b3bf3f1d",
   "metadata": {},
   "outputs": [],
   "source": [
    "encoded_text = np.array([encoder[char] for char in text])\n",
    "encoded_text[:200]"
   ]
  },
  {
   "cell_type": "code",
   "execution_count": null,
   "id": "e6f92335",
   "metadata": {},
   "outputs": [],
   "source": [
    "def one_hot_encoder(encoded_text, num_unique_chars):\n",
    "    # in this problem input 'encoded_text' is batch of all encoded text\n",
    "    # in this problem input 'num_unique_chars' is len(set(text))\n",
    "    \n",
    "    one_hot = np.zeros((encoded_text.size, num_unique_chars))\n",
    "    one_hot = one_hot.astype(np.float32)\n",
    "    one_hot[np.arange(one_hot.shape[0]), encoded_text.flatten()] = 1.0\n",
    "    one_hot = one_hot.reshape((*encoded_text.shape, num_unique_chars))\n",
    "    \n",
    "    return one_hot"
   ]
  },
  {
   "cell_type": "code",
   "execution_count": null,
   "id": "de9347de",
   "metadata": {},
   "outputs": [],
   "source": [
    "# sample to test one_hot_encoder\n",
    "arr = np.array([1,2,0])\n",
    "one_hot_encoder(arr, 3)"
   ]
  },
  {
   "cell_type": "code",
   "execution_count": null,
   "id": "26b755bc",
   "metadata": {},
   "outputs": [],
   "source": []
  },
  {
   "cell_type": "code",
   "execution_count": null,
   "id": "f16db64f",
   "metadata": {},
   "outputs": [],
   "source": [
    "def generate_batches(encoded_text, sample_per_batch=10, seq_len=50):\n",
    "    # X: encoded text of lenght seq_len\n",
    "    # Y: X shifted by one\n",
    "    \n",
    "    # how many chars per batch?\n",
    "    char_per_batch = sample_per_batch * seq_len\n",
    "    \n",
    "    # how many batches can we make, given the len of encoded text?\n",
    "    number_batches_avail = int(len(encoded_text)/char_per_batch)\n",
    "    \n",
    "    # cut off the end of the encoded text, that won't fit evenly into a batch\n",
    "    encoded_text = encoded_text[:number_batches_avail*char_per_batch]\n",
    "    \n",
    "    encoded_text = encoded_text.reshape((sample_per_batch, -1))\n",
    "    \n",
    "    for n in range(0, encoded_text.shape[1], seq_len):\n",
    "        x = encoded_text[:,n:n+seq_len]\n",
    "        y = np.zeros_like(x)\n",
    "        \n",
    "        try:\n",
    "            y[:,:-1] = x[:,1:]\n",
    "            y[:,-1] = encoded_text[:,n+seq_len]\n",
    "        except:\n",
    "            y[:,:-1] = x[:,1:]\n",
    "            y[:,-1] = encoded_text[:,0]\n",
    "            \n",
    "        yield x,y"
   ]
  },
  {
   "cell_type": "code",
   "execution_count": null,
   "id": "0bdea322",
   "metadata": {},
   "outputs": [],
   "source": [
    "# sample to test generate_batches function:\n",
    "sample_text = np.arange(30)\n",
    "print(sample_text)\n",
    "print('----------------')\n",
    "batch_generator = generate_batches(sample_text, sample_per_batch=2, seq_len=5)\n",
    "x,y = next(batch_generator)\n",
    "print('x1:',x)\n",
    "print('y1:',y)\n",
    "print('----------------')\n",
    "x,y = next(batch_generator)\n",
    "print('x2:',x)\n",
    "print('y2:',y)"
   ]
  },
  {
   "cell_type": "code",
   "execution_count": null,
   "id": "6b36f030",
   "metadata": {},
   "outputs": [],
   "source": []
  },
  {
   "cell_type": "code",
   "execution_count": null,
   "id": "4152c83e",
   "metadata": {},
   "outputs": [],
   "source": [
    "class Model(nn.Module):\n",
    "    def __init__(self, all_chars, num_hidden=256, num_layers=4, drop_prob=0.5, use_gpu=False):\n",
    "        super().__init__()\n",
    "        self.drop_prob = drop_prob\n",
    "        self.num_layers = num_layers\n",
    "        self.num_hidden = num_hidden\n",
    "        self.use_gpu = use_gpu\n",
    "        \n",
    "        self.all_chars = all_chars\n",
    "        self.decoder = dict(enumerate(all_chars))\n",
    "        self.encoder = {char:ind for ind, char in decoder.items()}\n",
    "        \n",
    "        self.lstm = nn.LSTM(input_size=len(all_chars), hidden_size=num_hidden, num_layers=num_layers, dropout=drop_prob, batch_first=True)\n",
    "        \n",
    "        self.dropout = nn.Dropout(drop_prob)\n",
    "        \n",
    "        self.fc_linear = nn.Linear(in_features=num_hidden, out_features=len(self.all_chars))\n",
    "        \n",
    "    def forward(self, x, hidden):\n",
    "        lstm_out, hidden = self.lstm(x, hidden)\n",
    "        drop_output = self.dropout(lstm_out)\n",
    "        drop_output = drop_output.contiguous().view(-1, self.num_hidden)\n",
    "        final_out = self.fc_linear(drop_output)\n",
    "        \n",
    "        return final_out, hidden\n",
    "    \n",
    "    def hidden_state(self, batch_size):\n",
    "        if self.use_gpu:\n",
    "            hidden = (torch.zeros(self.num_layers,batch_size,self.num_hidden).cuda(),\n",
    "                     torch.zeros(self.num_layers,batch_size,self.num_hidden).cuda())\n",
    "        else:\n",
    "            hidden = (torch.zeros(self.num_layers,batch_size,self.num_hidden),\n",
    "                     torch.zeros(self.num_layers,batch_size,self.num_hidden))\n",
    "        return hidden"
   ]
  },
  {
   "cell_type": "code",
   "execution_count": null,
   "id": "e380487c",
   "metadata": {},
   "outputs": [],
   "source": [
    "model = Model(all_chars=all_characters,\n",
    "             num_hidden=512,\n",
    "             num_layers=3,\n",
    "             drop_prob=0.5,\n",
    "             use_gpu=True)\n",
    "total_params = []\n",
    "for p in model.parameters():\n",
    "    total_params.append(int(p.numel()))\n",
    "total_params"
   ]
  },
  {
   "cell_type": "code",
   "execution_count": null,
   "id": "09d9d094",
   "metadata": {},
   "outputs": [],
   "source": [
    "sum(total_params)"
   ]
  },
  {
   "cell_type": "code",
   "execution_count": null,
   "id": "de1c9d6e",
   "metadata": {},
   "outputs": [],
   "source": [
    "optimizer = torch.optim.Adam(model.parameters(), lr=0.001)\n",
    "criterion = nn.CrossEntropyLoss()"
   ]
  },
  {
   "cell_type": "code",
   "execution_count": null,
   "id": "663451ff",
   "metadata": {},
   "outputs": [],
   "source": [
    "train_percent = 0.9\n",
    "train_ind = int(len(encoded_text)*train_percent)\n",
    "\n",
    "train_data = encoded_text[:train_ind]\n",
    "val_data = encoded_text[train_ind:]"
   ]
  },
  {
   "cell_type": "code",
   "execution_count": null,
   "id": "c2f5b82e",
   "metadata": {},
   "outputs": [],
   "source": [
    "train_data.shape"
   ]
  },
  {
   "cell_type": "code",
   "execution_count": null,
   "id": "8113e1b0",
   "metadata": {},
   "outputs": [],
   "source": []
  },
  {
   "cell_type": "code",
   "execution_count": null,
   "id": "4e85361b",
   "metadata": {},
   "outputs": [],
   "source": [
    "epochs = 50\n",
    "batch_size = 128\n",
    "seq_len = 100\n",
    "tracker = 0\n",
    "num_char = max(encoded_text)+1"
   ]
  },
  {
   "cell_type": "code",
   "execution_count": null,
   "id": "b8491a06",
   "metadata": {},
   "outputs": [],
   "source": [
    "model.train()\n",
    "\n",
    "if model.use_gpu:\n",
    "    model.cuda()\n",
    "    \n",
    "for i in range(epochs):\n",
    "    hidden = model.hidden_state(batch_size)\n",
    "    \n",
    "    for x, y in generate_batches(train_data, batch_size, seq_len):\n",
    "        tracker += 1\n",
    "        x = one_hot_encoder(x, num_char)\n",
    "        \n",
    "        inputs = torch.from_numpy(x)\n",
    "        targets = torch.from_numpy(y)\n",
    "        \n",
    "        if model.use_gpu:\n",
    "            inputs = inputs.cuda()\n",
    "            targets = targets.cuda()\n",
    "            \n",
    "        hidden = tuple([state.data for state in hidden])\n",
    "        \n",
    "        model.zero_grad()\n",
    "        lstm_output, hidden = model.forward(inputs, hidden)\n",
    "        loss = criterion(lstm_output, targets.view(batch_size*seq_len).long())\n",
    "        loss.backward()\n",
    "        \n",
    "        nn.utils.clip_grad_norm(model.parameters(), max_norm=5)\n",
    "        optimizer.step()\n",
    "        \n",
    "        if tracker % 25 == 0:\n",
    "            val_hidden = model.hidden_state(batch_size)\n",
    "            val_losses = []\n",
    "            model.eval()\n",
    "            \n",
    "            for x, y in generate_batches(val_data, batch_size, seq_len):\n",
    "                x = one_hot_encoder(x, num_char)\n",
    "                \n",
    "                inputs = torch.from_numpy(x)\n",
    "                targets = torch.from_numpy(y)\n",
    "                \n",
    "                if model.use_gpu:\n",
    "                    inputs = inputs.cuda()\n",
    "                    targets = targets.cuda()\n",
    "                    \n",
    "                val_hidden = tuple([state.data for state in val_hidden])\n",
    "\n",
    "                lstm_output, val_hidden = model.forward(inputs, val_hidden)\n",
    "                val_loss = criterion(lstm_output, targets.view(batch_size*seq_len).long())\n",
    "                \n",
    "                val_losses.append(val_loss.item())\n",
    "                \n",
    "            model.train()\n",
    "            \n",
    "            print(f'Epoch: {i}, Step:{tracker}, Val Loss: {val_loss.item()}')"
   ]
  },
  {
   "cell_type": "code",
   "execution_count": null,
   "id": "9d0462e8",
   "metadata": {},
   "outputs": [],
   "source": [
    "torch.save(model.state_dict(), '../models/my_nlp_rnn_shaks.pt')"
   ]
  },
  {
   "cell_type": "code",
   "execution_count": null,
   "id": "44b572f2",
   "metadata": {},
   "outputs": [],
   "source": []
  },
  {
   "cell_type": "code",
   "execution_count": null,
   "id": "f5eb908f",
   "metadata": {},
   "outputs": [],
   "source": [
    "model.load_state_dict(torch.load('../models/Shakespeare_Model.net'))\n",
    "model.eval()"
   ]
  },
  {
   "cell_type": "code",
   "execution_count": null,
   "id": "3cb6acfb",
   "metadata": {},
   "outputs": [],
   "source": [
    "def predict_next_char(model, char, hidden=None, k=1):\n",
    "    encoded_text = model.encoder[char]\n",
    "    encoded_text = np.array([[encoded_text]])\n",
    "    encoded_text = one_hot_encoder(encoded_text, len(model.all_chars))\n",
    "\n",
    "    inputs = torch.from_numpy(encoded_text)\n",
    "\n",
    "    if model.use_gpu:\n",
    "        inputs = inputs.cuda()\n",
    "\n",
    "    hidden = tuple([state.data for state in hidden])\n",
    "    lstm_out, hidden = model(inputs, hidden)\n",
    "    \n",
    "    probs = F.softmax(lstm_out, dim=1).data\n",
    "\n",
    "    if model.use_gpu:\n",
    "        probs = probs.cpu()\n",
    "\n",
    "    probs, index_positions = probs.topk(k)\n",
    "\n",
    "    index_positions = index_positions.numpy().squeeze()\n",
    "\n",
    "    probs = probs.numpy().flatten()\n",
    "\n",
    "    probs = probs/probs.sum()\n",
    "\n",
    "    char = np.random.choice(index_positions, p=probs)\n",
    "\n",
    "    return model.decoder[char], hidden\n",
    "\n"
   ]
  },
  {
   "cell_type": "code",
   "execution_count": null,
   "id": "feb1af33",
   "metadata": {},
   "outputs": [],
   "source": [
    "def generate_text(model, size, seed='The', k=1):\n",
    "    if model.use_gpu:\n",
    "        model.cuda()\n",
    "    else:\n",
    "        model.cpu()\n",
    "\n",
    "    model.eval()\n",
    "    output_chars = [c for c in seed]\n",
    "\n",
    "    hidden = model.hidden_state(1)\n",
    "\n",
    "    for char in seed:\n",
    "        char, hidden = predict_next_char(model, char, hidden, k=k)\n",
    "    \n",
    "    output_chars.append(char)\n",
    "\n",
    "    for i in range(size):\n",
    "        char, hidden = predict_next_char(model, output_chars[-1], hidden, k=k)\n",
    "        output_chars.append(char)\n",
    "    \n",
    "    return ''.join(output_chars)"
   ]
  },
  {
   "cell_type": "code",
   "execution_count": null,
   "id": "60f9bd9e",
   "metadata": {},
   "outputs": [],
   "source": [
    "print(generate_text(model, 1000, seed='The', k=3))"
   ]
  },
  {
   "cell_type": "code",
   "execution_count": null,
   "id": "5c90d63d",
   "metadata": {},
   "outputs": [],
   "source": []
  }
 ],
 "metadata": {
  "kernelspec": {
   "display_name": "Python 3.8.11 ('myMLEnv')",
   "language": "python",
   "name": "python3"
  },
  "language_info": {
   "codemirror_mode": {
    "name": "ipython",
    "version": 3
   },
   "file_extension": ".py",
   "mimetype": "text/x-python",
   "name": "python",
   "nbconvert_exporter": "python",
   "pygments_lexer": "ipython3",
   "version": "3.8.11"
  },
  "vscode": {
   "interpreter": {
    "hash": "418a5ed4ed6d8198b840b61453495c26d507d70d3841dd181a7388aaa4474a5c"
   }
  }
 },
 "nbformat": 4,
 "nbformat_minor": 5
}
