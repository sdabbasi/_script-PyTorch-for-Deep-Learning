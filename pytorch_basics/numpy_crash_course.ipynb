{
 "cells": [
  {
   "cell_type": "code",
   "execution_count": null,
   "id": "05ae0436",
   "metadata": {},
   "outputs": [],
   "source": [
    "import numpy as np"
   ]
  },
  {
   "cell_type": "code",
   "execution_count": null,
   "id": "5e253b90",
   "metadata": {},
   "outputs": [],
   "source": [
    "mylist = [[1,2,3], [4,5,6], [7,8,9]]"
   ]
  },
  {
   "cell_type": "code",
   "execution_count": null,
   "id": "f406c482",
   "metadata": {},
   "outputs": [],
   "source": [
    "mymatrix = np.array(mylist)"
   ]
  },
  {
   "cell_type": "code",
   "execution_count": null,
   "id": "e5349906",
   "metadata": {},
   "outputs": [],
   "source": [
    "mymatrix.shape"
   ]
  },
  {
   "cell_type": "code",
   "execution_count": null,
   "id": "900ad784",
   "metadata": {},
   "outputs": [],
   "source": [
    "np.arange(0, 10)"
   ]
  },
  {
   "cell_type": "code",
   "execution_count": null,
   "id": "0dd55f95",
   "metadata": {},
   "outputs": [],
   "source": [
    "np.arange(0, 11, 2)"
   ]
  },
  {
   "cell_type": "code",
   "execution_count": null,
   "id": "836f42f5",
   "metadata": {},
   "outputs": [],
   "source": [
    "np.zeros(5)"
   ]
  },
  {
   "cell_type": "code",
   "execution_count": null,
   "id": "6bdf0b63",
   "metadata": {},
   "outputs": [],
   "source": [
    "np.ones(5)"
   ]
  },
  {
   "cell_type": "code",
   "execution_count": null,
   "id": "4bf43999",
   "metadata": {},
   "outputs": [],
   "source": [
    "np.zeros((3,4))"
   ]
  },
  {
   "cell_type": "code",
   "execution_count": null,
   "id": "efd599c7",
   "metadata": {},
   "outputs": [],
   "source": [
    "np.ones((3,4))"
   ]
  },
  {
   "cell_type": "code",
   "execution_count": null,
   "id": "da5ea971",
   "metadata": {},
   "outputs": [],
   "source": [
    "np.ones((3,4)) + 3"
   ]
  },
  {
   "cell_type": "code",
   "execution_count": null,
   "id": "6336bda5",
   "metadata": {},
   "outputs": [],
   "source": [
    "np.ones((3,4)) * 5"
   ]
  },
  {
   "cell_type": "code",
   "execution_count": null,
   "id": "483332cf",
   "metadata": {},
   "outputs": [],
   "source": [
    "# returns 20 numbers between zero and 10 (the distance of the numbers are equal)\n",
    "np.linspace(0, 10, 20)"
   ]
  },
  {
   "cell_type": "code",
   "execution_count": null,
   "id": "951113a2",
   "metadata": {},
   "outputs": [],
   "source": [
    "np.eye(5)"
   ]
  },
  {
   "cell_type": "code",
   "execution_count": null,
   "id": "0c20a613",
   "metadata": {},
   "outputs": [],
   "source": []
  },
  {
   "cell_type": "code",
   "execution_count": null,
   "id": "25c81ee9",
   "metadata": {},
   "outputs": [],
   "source": [
    "np.random.rand(3,4)"
   ]
  },
  {
   "cell_type": "code",
   "execution_count": null,
   "id": "74f08211",
   "metadata": {},
   "outputs": [],
   "source": [
    "# returns 10 numbers from standard normal distribution\n",
    "np.random.randn(10)\n",
    "# also can use np.random.normal() to draw a series of random samples from a normal (Gaussian) distribution. Using this method\n",
    "# can define any normal distributions including normal and non-normal."
   ]
  },
  {
   "cell_type": "code",
   "execution_count": null,
   "id": "9e0b5274",
   "metadata": {},
   "outputs": [],
   "source": [
    "np.random.randint(1, 100, 7)"
   ]
  },
  {
   "cell_type": "code",
   "execution_count": null,
   "id": "4f9340f5",
   "metadata": {},
   "outputs": [],
   "source": [
    "np.random.seed(42)\n",
    "np.random.rand(4)"
   ]
  },
  {
   "cell_type": "code",
   "execution_count": null,
   "id": "16b341f5",
   "metadata": {},
   "outputs": [],
   "source": [
    "arr = np.random.rand(25)\n",
    "arr = arr.reshape(5,5)\n",
    "arr"
   ]
  },
  {
   "cell_type": "code",
   "execution_count": null,
   "id": "8908db34",
   "metadata": {},
   "outputs": [],
   "source": [
    "arr.max()"
   ]
  },
  {
   "cell_type": "code",
   "execution_count": null,
   "id": "78c1f2da",
   "metadata": {},
   "outputs": [],
   "source": [
    "arr.min()"
   ]
  },
  {
   "cell_type": "code",
   "execution_count": null,
   "id": "92ffc0ad",
   "metadata": {},
   "outputs": [],
   "source": [
    "arr.shape"
   ]
  },
  {
   "cell_type": "code",
   "execution_count": null,
   "id": "eb7bb42f",
   "metadata": {},
   "outputs": [],
   "source": [
    "arr.argmin()"
   ]
  },
  {
   "cell_type": "code",
   "execution_count": null,
   "id": "7cd54a9a",
   "metadata": {},
   "outputs": [],
   "source": [
    "arr.argmax()"
   ]
  },
  {
   "cell_type": "code",
   "execution_count": null,
   "id": "d372c82f",
   "metadata": {},
   "outputs": [],
   "source": [
    "arr.dtype"
   ]
  },
  {
   "cell_type": "code",
   "execution_count": null,
   "id": "50e1ee74",
   "metadata": {},
   "outputs": [],
   "source": []
  },
  {
   "cell_type": "code",
   "execution_count": null,
   "id": "4741c599",
   "metadata": {},
   "outputs": [],
   "source": [
    "arr = np.arange(0, 10)"
   ]
  },
  {
   "cell_type": "code",
   "execution_count": null,
   "id": "c6e44fcd",
   "metadata": {},
   "outputs": [],
   "source": [
    "arr[3:7]"
   ]
  },
  {
   "cell_type": "code",
   "execution_count": null,
   "id": "01da30e9",
   "metadata": {},
   "outputs": [],
   "source": [
    "# this is the concept of broadcasting in numpy arrays\n",
    "arr = np.arange(0, 11)\n",
    "new_arr = arr[:6]\n",
    "new_arr[:] = 99\n",
    "arr"
   ]
  },
  {
   "cell_type": "code",
   "execution_count": null,
   "id": "b1510ff9",
   "metadata": {},
   "outputs": [],
   "source": [
    "# to prevent broadcasting happening, should use copy method:\n",
    "arr = np.arange(0, 11)\n",
    "new_arr = arr.copy()[:6]\n",
    "new_arr[:] = 99\n",
    "arr"
   ]
  },
  {
   "cell_type": "code",
   "execution_count": null,
   "id": "cb34b3dc",
   "metadata": {},
   "outputs": [],
   "source": []
  },
  {
   "cell_type": "code",
   "execution_count": null,
   "id": "92550a81",
   "metadata": {},
   "outputs": [],
   "source": [
    "mat = np.random.randint(0, 50, 9)"
   ]
  },
  {
   "cell_type": "code",
   "execution_count": null,
   "id": "b1ab1f75",
   "metadata": {},
   "outputs": [],
   "source": [
    "mat = mat.reshape((3,3))"
   ]
  },
  {
   "cell_type": "code",
   "execution_count": null,
   "id": "9af2dbc2",
   "metadata": {},
   "outputs": [],
   "source": [
    "mat"
   ]
  },
  {
   "cell_type": "code",
   "execution_count": null,
   "id": "8a97d642",
   "metadata": {},
   "outputs": [],
   "source": [
    "mat[:2]"
   ]
  },
  {
   "cell_type": "code",
   "execution_count": null,
   "id": "8f6c1013",
   "metadata": {},
   "outputs": [],
   "source": [
    "mat[:2, 1:]"
   ]
  },
  {
   "cell_type": "code",
   "execution_count": null,
   "id": "e88d6e1e",
   "metadata": {},
   "outputs": [],
   "source": []
  },
  {
   "cell_type": "code",
   "execution_count": null,
   "id": "876e675f",
   "metadata": {},
   "outputs": [],
   "source": [
    "arr = np.arange(11)\n",
    "arr > 4"
   ]
  },
  {
   "cell_type": "code",
   "execution_count": null,
   "id": "3b6c2255",
   "metadata": {},
   "outputs": [],
   "source": [
    "arr = np.arange(11)\n",
    "arr[arr > 3]"
   ]
  },
  {
   "cell_type": "code",
   "execution_count": null,
   "id": "0d515d62",
   "metadata": {},
   "outputs": [],
   "source": []
  },
  {
   "cell_type": "code",
   "execution_count": null,
   "id": "301bf8d3",
   "metadata": {},
   "outputs": [],
   "source": [
    "mat = np.arange(1, 13)\n",
    "mat = mat.reshape((3, 4))\n",
    "mat"
   ]
  },
  {
   "cell_type": "code",
   "execution_count": null,
   "id": "8caf549b",
   "metadata": {},
   "outputs": [],
   "source": [
    "mat + mat"
   ]
  },
  {
   "cell_type": "code",
   "execution_count": null,
   "id": "5a9f46ea",
   "metadata": {},
   "outputs": [],
   "source": [
    "np.sqrt(mat)"
   ]
  },
  {
   "cell_type": "code",
   "execution_count": null,
   "id": "99fa19c8",
   "metadata": {},
   "outputs": [],
   "source": [
    "np.log(mat)"
   ]
  },
  {
   "cell_type": "code",
   "execution_count": null,
   "id": "50a19bba",
   "metadata": {},
   "outputs": [],
   "source": [
    "np.sin(mat)"
   ]
  },
  {
   "cell_type": "code",
   "execution_count": null,
   "id": "b9c41157",
   "metadata": {},
   "outputs": [],
   "source": []
  },
  {
   "cell_type": "code",
   "execution_count": null,
   "id": "8b757496",
   "metadata": {},
   "outputs": [],
   "source": [
    "mat = np.arange(1, 13)\n",
    "mat = mat.reshape((3, 4))\n",
    "mat"
   ]
  },
  {
   "cell_type": "code",
   "execution_count": null,
   "id": "fe8c9299",
   "metadata": {},
   "outputs": [],
   "source": [
    "mat.sum()"
   ]
  },
  {
   "cell_type": "code",
   "execution_count": null,
   "id": "4e8d007e",
   "metadata": {},
   "outputs": [],
   "source": [
    "mat.mean()"
   ]
  },
  {
   "cell_type": "code",
   "execution_count": null,
   "id": "22b9b284",
   "metadata": {},
   "outputs": [],
   "source": [
    "# returns sum of columns; also can say return the sum along the vertical axis; also can say return the sum acorss the rows\n",
    "mat.sum(axis=0)"
   ]
  },
  {
   "cell_type": "code",
   "execution_count": null,
   "id": "d375c2cb",
   "metadata": {},
   "outputs": [],
   "source": [
    "# returns sum of rows; also can say returns the sum along the horizontal axis; also can say returns the sum acorss the columns\n",
    "mat.sum(axis=1)"
   ]
  },
  {
   "cell_type": "code",
   "execution_count": null,
   "id": "ff191ace",
   "metadata": {},
   "outputs": [],
   "source": []
  }
 ],
 "metadata": {
  "kernelspec": {
   "display_name": "Python 3.8.11 ('myMLEnv')",
   "language": "python",
   "name": "python3"
  },
  "language_info": {
   "codemirror_mode": {
    "name": "ipython",
    "version": 3
   },
   "file_extension": ".py",
   "mimetype": "text/x-python",
   "name": "python",
   "nbconvert_exporter": "python",
   "pygments_lexer": "ipython3",
   "version": "3.8.11"
  },
  "vscode": {
   "interpreter": {
    "hash": "418a5ed4ed6d8198b840b61453495c26d507d70d3841dd181a7388aaa4474a5c"
   }
  }
 },
 "nbformat": 4,
 "nbformat_minor": 5
}
