{
 "cells": [
  {
   "cell_type": "code",
   "execution_count": null,
   "id": "ec2241ef",
   "metadata": {},
   "outputs": [],
   "source": [
    "import numpy as np\n",
    "import pandas as pd"
   ]
  },
  {
   "cell_type": "code",
   "execution_count": null,
   "id": "4b47e22e",
   "metadata": {},
   "outputs": [],
   "source": [
    "labels = ['a', 'b', 'c']"
   ]
  },
  {
   "cell_type": "code",
   "execution_count": null,
   "id": "39d979b9",
   "metadata": {},
   "outputs": [],
   "source": [
    "arr = np.array([1, 2, 3])"
   ]
  },
  {
   "cell_type": "code",
   "execution_count": null,
   "id": "cd91e1be",
   "metadata": {},
   "outputs": [],
   "source": [
    "pd.Series(arr)"
   ]
  },
  {
   "cell_type": "code",
   "execution_count": null,
   "id": "923e1d70",
   "metadata": {},
   "outputs": [],
   "source": [
    "pd.Series(labels)"
   ]
  },
  {
   "cell_type": "code",
   "execution_count": null,
   "id": "fd6aec9f",
   "metadata": {},
   "outputs": [],
   "source": [
    "pd.Series(data=arr, index=labels)"
   ]
  },
  {
   "cell_type": "code",
   "execution_count": null,
   "id": "a2eadcd3",
   "metadata": {},
   "outputs": [],
   "source": []
  },
  {
   "cell_type": "code",
   "execution_count": null,
   "id": "94ec2a03",
   "metadata": {},
   "outputs": [],
   "source": [
    "ser1 = pd.Series([1,2,3,4], ['USA', 'France', 'Italy', 'Canada'])"
   ]
  },
  {
   "cell_type": "code",
   "execution_count": null,
   "id": "7141fc67",
   "metadata": {},
   "outputs": [],
   "source": [
    "ser1['France']"
   ]
  },
  {
   "cell_type": "code",
   "execution_count": null,
   "id": "9ef06df4",
   "metadata": {},
   "outputs": [],
   "source": [
    "ser2 = pd.Series([10,20,30,40], ['USA', 'France', 'England', 'Canada'])"
   ]
  },
  {
   "cell_type": "code",
   "execution_count": null,
   "id": "af6b3aa6",
   "metadata": {},
   "outputs": [],
   "source": [
    "ser1 + ser2"
   ]
  },
  {
   "cell_type": "code",
   "execution_count": null,
   "id": "2d5285b2",
   "metadata": {},
   "outputs": [],
   "source": []
  },
  {
   "cell_type": "code",
   "execution_count": null,
   "id": "c415bf88",
   "metadata": {},
   "outputs": [],
   "source": [
    "np.random.seed(101)\n",
    "rand_mat = np.random.randn(5, 4)\n",
    "rand_mat"
   ]
  },
  {
   "cell_type": "code",
   "execution_count": null,
   "id": "cc636917",
   "metadata": {},
   "outputs": [],
   "source": []
  },
  {
   "cell_type": "code",
   "execution_count": null,
   "id": "c7947750",
   "metadata": {},
   "outputs": [],
   "source": [
    "df = pd.DataFrame(data=rand_mat, index='A B C D E'.split(), columns='W X Y Z'.split())\n",
    "df"
   ]
  },
  {
   "cell_type": "code",
   "execution_count": null,
   "id": "d17157ff",
   "metadata": {},
   "outputs": [],
   "source": [
    "df['W']"
   ]
  },
  {
   "cell_type": "code",
   "execution_count": null,
   "id": "ed225e5b",
   "metadata": {},
   "outputs": [],
   "source": [
    "type(df['W'])"
   ]
  },
  {
   "cell_type": "code",
   "execution_count": null,
   "id": "1748e8a3",
   "metadata": {},
   "outputs": [],
   "source": [
    "df[['W', 'X']]"
   ]
  },
  {
   "cell_type": "code",
   "execution_count": null,
   "id": "62abe7f8",
   "metadata": {},
   "outputs": [],
   "source": [
    "df['NEW'] = df['W'] + df['Y']\n",
    "df"
   ]
  },
  {
   "cell_type": "code",
   "execution_count": null,
   "id": "fbeb189c",
   "metadata": {},
   "outputs": [],
   "source": [
    "df.drop('NEW', axis=1)"
   ]
  },
  {
   "cell_type": "code",
   "execution_count": null,
   "id": "c7699933",
   "metadata": {},
   "outputs": [],
   "source": [
    "df"
   ]
  },
  {
   "cell_type": "code",
   "execution_count": null,
   "id": "37aece6c",
   "metadata": {},
   "outputs": [],
   "source": [
    "df.drop('NEW', axis=1, inplace=True)"
   ]
  },
  {
   "cell_type": "code",
   "execution_count": null,
   "id": "e13d3152",
   "metadata": {},
   "outputs": [],
   "source": [
    "df"
   ]
  },
  {
   "cell_type": "code",
   "execution_count": null,
   "id": "af4c55a2",
   "metadata": {},
   "outputs": [],
   "source": [
    "df.drop('A')"
   ]
  },
  {
   "cell_type": "code",
   "execution_count": null,
   "id": "8ed8abba",
   "metadata": {},
   "outputs": [],
   "source": [
    "df"
   ]
  },
  {
   "cell_type": "code",
   "execution_count": null,
   "id": "5cf3fdcf",
   "metadata": {},
   "outputs": [],
   "source": [
    "# there are two ways to select data through the rows:\n",
    "# method1:\n",
    "df.loc['A']"
   ]
  },
  {
   "cell_type": "code",
   "execution_count": null,
   "id": "0a387651",
   "metadata": {},
   "outputs": [],
   "source": [
    "# method2:\n",
    "df.iloc[0]"
   ]
  },
  {
   "cell_type": "code",
   "execution_count": null,
   "id": "56b69a0b",
   "metadata": {},
   "outputs": [],
   "source": [
    "df.loc[['A', 'B']]"
   ]
  },
  {
   "cell_type": "code",
   "execution_count": null,
   "id": "12befa84",
   "metadata": {},
   "outputs": [],
   "source": [
    "df.iloc[[0, 1]]"
   ]
  },
  {
   "cell_type": "code",
   "execution_count": null,
   "id": "75f2c3d4",
   "metadata": {},
   "outputs": [],
   "source": [
    "df.loc[['A', 'B'], ['Y', 'Z']]"
   ]
  },
  {
   "cell_type": "code",
   "execution_count": null,
   "id": "9b9cd094",
   "metadata": {},
   "outputs": [],
   "source": [
    "df.iloc[[0, 1], [2, 3]]"
   ]
  },
  {
   "cell_type": "code",
   "execution_count": null,
   "id": "8aa55bd9",
   "metadata": {},
   "outputs": [],
   "source": []
  },
  {
   "cell_type": "code",
   "execution_count": null,
   "id": "eb6dad0e",
   "metadata": {},
   "outputs": [],
   "source": [
    "df > 0"
   ]
  },
  {
   "cell_type": "code",
   "execution_count": null,
   "id": "6268ca59",
   "metadata": {},
   "outputs": [],
   "source": [
    "df[df > 0]"
   ]
  },
  {
   "cell_type": "code",
   "execution_count": null,
   "id": "9c12ae06",
   "metadata": {},
   "outputs": [],
   "source": [
    "df['W']>0"
   ]
  },
  {
   "cell_type": "code",
   "execution_count": null,
   "id": "cbf3437e",
   "metadata": {},
   "outputs": [],
   "source": [
    "# this is very practical usage:\n",
    "df[df['W']>0]"
   ]
  },
  {
   "cell_type": "code",
   "execution_count": null,
   "id": "69095e6c",
   "metadata": {},
   "outputs": [],
   "source": [
    "df[df['W']>0]['Y'].iloc[0]"
   ]
  },
  {
   "cell_type": "code",
   "execution_count": null,
   "id": "30967b37",
   "metadata": {},
   "outputs": [],
   "source": [
    "df[df['W']>0].iloc[0, 2]"
   ]
  },
  {
   "cell_type": "code",
   "execution_count": null,
   "id": "386d553b",
   "metadata": {},
   "outputs": [],
   "source": [
    "# in contrast with pure python, we use & symbol to impose logical AND\n",
    "df[(df['W']>0) & (df['Y']>1)]"
   ]
  },
  {
   "cell_type": "code",
   "execution_count": null,
   "id": "5be28e45",
   "metadata": {},
   "outputs": [],
   "source": []
  },
  {
   "cell_type": "code",
   "execution_count": null,
   "id": "516d6ee9",
   "metadata": {},
   "outputs": [],
   "source": [
    "df"
   ]
  },
  {
   "cell_type": "code",
   "execution_count": null,
   "id": "e6bf0136",
   "metadata": {},
   "outputs": [],
   "source": [
    "# convert the index column to a real column\n",
    "df.reset_index()"
   ]
  },
  {
   "cell_type": "code",
   "execution_count": null,
   "id": "18174960",
   "metadata": {},
   "outputs": [],
   "source": [
    "df2 = df.reset_index()"
   ]
  },
  {
   "cell_type": "code",
   "execution_count": null,
   "id": "01fdd272",
   "metadata": {},
   "outputs": [],
   "source": [
    "df2"
   ]
  },
  {
   "cell_type": "code",
   "execution_count": null,
   "id": "f5e13f6b",
   "metadata": {},
   "outputs": [],
   "source": [
    "# convert an real column to an index column\n",
    "df2.set_index('index')"
   ]
  },
  {
   "cell_type": "code",
   "execution_count": null,
   "id": "7f47b8fe",
   "metadata": {},
   "outputs": [],
   "source": [
    "df.info()"
   ]
  },
  {
   "cell_type": "code",
   "execution_count": null,
   "id": "b1d6c040",
   "metadata": {},
   "outputs": [],
   "source": [
    "df.dtypes"
   ]
  },
  {
   "cell_type": "code",
   "execution_count": null,
   "id": "8d638421",
   "metadata": {},
   "outputs": [],
   "source": [
    "df.describe()"
   ]
  },
  {
   "cell_type": "code",
   "execution_count": null,
   "id": "991fbae8",
   "metadata": {},
   "outputs": [],
   "source": [
    "df.columns"
   ]
  },
  {
   "cell_type": "code",
   "execution_count": null,
   "id": "106c3244",
   "metadata": {},
   "outputs": [],
   "source": [
    "df.index"
   ]
  },
  {
   "cell_type": "code",
   "execution_count": null,
   "id": "0f59c471",
   "metadata": {},
   "outputs": [],
   "source": []
  },
  {
   "cell_type": "code",
   "execution_count": null,
   "id": "0d3abfef",
   "metadata": {},
   "outputs": [],
   "source": [
    "ser_w = df['W'] > 0"
   ]
  },
  {
   "cell_type": "code",
   "execution_count": null,
   "id": "c3c1120e",
   "metadata": {},
   "outputs": [],
   "source": [
    "sum(ser_w)"
   ]
  },
  {
   "cell_type": "code",
   "execution_count": null,
   "id": "abbeba1f",
   "metadata": {},
   "outputs": [],
   "source": [
    "ser_w.value_counts()"
   ]
  },
  {
   "cell_type": "code",
   "execution_count": null,
   "id": "76ce9fe6",
   "metadata": {},
   "outputs": [],
   "source": []
  },
  {
   "cell_type": "code",
   "execution_count": null,
   "id": "e313edf7",
   "metadata": {},
   "outputs": [],
   "source": [
    "# GROUP BY\n",
    "data = {\n",
    "    'Company': ['GOOG', 'GOOG', 'MSFT', 'MSFT', 'FB', 'FB'],\n",
    "    'Person': ['Sam', 'Charlie', 'Amy', 'Vanessa', 'Carl', 'Sarah'],\n",
    "    'Sales': [200, 120, 340, 124, 243, 350]}\n",
    "df = pd.DataFrame(data)\n",
    "df"
   ]
  },
  {
   "cell_type": "code",
   "execution_count": null,
   "id": "cb3fa664",
   "metadata": {},
   "outputs": [],
   "source": [
    "df.groupby('Company').mean()"
   ]
  },
  {
   "cell_type": "code",
   "execution_count": null,
   "id": "14ea6efd",
   "metadata": {},
   "outputs": [],
   "source": [
    "df.groupby('Company').max()"
   ]
  },
  {
   "cell_type": "code",
   "execution_count": null,
   "id": "8ae4778f",
   "metadata": {},
   "outputs": [],
   "source": [
    "df.groupby('Company').describe()"
   ]
  },
  {
   "cell_type": "code",
   "execution_count": null,
   "id": "596e500c",
   "metadata": {},
   "outputs": [],
   "source": [
    "df.groupby('Company').describe().transpose()"
   ]
  },
  {
   "cell_type": "code",
   "execution_count": null,
   "id": "02c5dbfe",
   "metadata": {},
   "outputs": [],
   "source": []
  },
  {
   "cell_type": "code",
   "execution_count": null,
   "id": "9f756039",
   "metadata": {},
   "outputs": [],
   "source": [
    "data = {'col1': [1, 2, 3, 4],\n",
    "    'col2': [444, 555, 666, 444],\n",
    "    'col3': ['abc', 'def', 'ghi', 'xyz']}\n",
    "df = pd.DataFrame(data)\n",
    "df"
   ]
  },
  {
   "cell_type": "code",
   "execution_count": null,
   "id": "efe75e27",
   "metadata": {},
   "outputs": [],
   "source": [
    "df['col2'].unique()"
   ]
  },
  {
   "cell_type": "code",
   "execution_count": null,
   "id": "8b44ae50",
   "metadata": {},
   "outputs": [],
   "source": [
    "df['col2'].nunique()"
   ]
  },
  {
   "cell_type": "code",
   "execution_count": null,
   "id": "705fc8ad",
   "metadata": {},
   "outputs": [],
   "source": [
    "df['col2'].value_counts()"
   ]
  },
  {
   "cell_type": "code",
   "execution_count": null,
   "id": "9e454b69",
   "metadata": {},
   "outputs": [],
   "source": [
    "# conditional selection\n",
    "new_df = df[(df['col1']>2) & (df['col2']==444)]\n",
    "new_df"
   ]
  },
  {
   "cell_type": "code",
   "execution_count": null,
   "id": "45f2d2de",
   "metadata": {},
   "outputs": [],
   "source": []
  },
  {
   "cell_type": "code",
   "execution_count": null,
   "id": "b3afcf93",
   "metadata": {},
   "outputs": [],
   "source": [
    "def times_two(number):\n",
    "    return number*2"
   ]
  },
  {
   "cell_type": "code",
   "execution_count": null,
   "id": "c22c7eda",
   "metadata": {},
   "outputs": [],
   "source": [
    "df['new'] = df['col1'].apply(times_two)\n",
    "df"
   ]
  },
  {
   "cell_type": "code",
   "execution_count": null,
   "id": "f7acfed0",
   "metadata": {},
   "outputs": [],
   "source": [
    "df.drop('new',axis=1, inplace=True)\n",
    "df"
   ]
  },
  {
   "cell_type": "code",
   "execution_count": null,
   "id": "2be389f6",
   "metadata": {},
   "outputs": [],
   "source": [
    "df.sort_values('col2')"
   ]
  },
  {
   "cell_type": "code",
   "execution_count": null,
   "id": "a4db56fd",
   "metadata": {},
   "outputs": [],
   "source": [
    "df.sort_values('col2', ascending=False)"
   ]
  },
  {
   "cell_type": "code",
   "execution_count": null,
   "id": "67b8de3f",
   "metadata": {},
   "outputs": [],
   "source": []
  },
  {
   "cell_type": "code",
   "execution_count": null,
   "id": "04ee6061",
   "metadata": {},
   "outputs": [],
   "source": [
    "df = pd.read_csv('../data/crash_course_files/example.csv')\n",
    "df"
   ]
  },
  {
   "cell_type": "code",
   "execution_count": null,
   "id": "24b52fa3",
   "metadata": {},
   "outputs": [],
   "source": [
    "new_df = df[['a', 'b']]\n",
    "new_df"
   ]
  },
  {
   "cell_type": "code",
   "execution_count": null,
   "id": "ce8f735e",
   "metadata": {},
   "outputs": [],
   "source": [
    "new_df.to_csv('../data/crash_course_files/mynew.csv', index=False)"
   ]
  },
  {
   "cell_type": "code",
   "execution_count": null,
   "id": "0a09bd2c",
   "metadata": {},
   "outputs": [],
   "source": [
    "df = pd.read_excel('../data/crash_course_files/Excel_Sample.xlsx', sheet_name='Sheet1')\n",
    "df"
   ]
  },
  {
   "cell_type": "code",
   "execution_count": null,
   "id": "f30ab0e6",
   "metadata": {},
   "outputs": [],
   "source": [
    "df.drop('Unnamed: 0', axis=1)"
   ]
  },
  {
   "cell_type": "code",
   "execution_count": null,
   "id": "c69e9420",
   "metadata": {},
   "outputs": [],
   "source": [
    "# my_list_of_tables = pd.read_html('http://www.fdic.gov/bank/individual/failed/banklist.html')"
   ]
  },
  {
   "cell_type": "code",
   "execution_count": null,
   "id": "f4a13812",
   "metadata": {},
   "outputs": [],
   "source": []
  },
  {
   "cell_type": "code",
   "execution_count": null,
   "id": "82992b34",
   "metadata": {},
   "outputs": [],
   "source": [
    "df = pd.read_csv('../data/crash_course_files/bank.csv')"
   ]
  },
  {
   "cell_type": "code",
   "execution_count": null,
   "id": "be4dfec5",
   "metadata": {},
   "outputs": [],
   "source": [
    "df.head()\n",
    "# also can get the same result by df.iloc[:5]"
   ]
  },
  {
   "cell_type": "code",
   "execution_count": null,
   "id": "5e91a7d3",
   "metadata": {},
   "outputs": [],
   "source": [
    "df['age'].mean()"
   ]
  },
  {
   "cell_type": "code",
   "execution_count": null,
   "id": "cad82936",
   "metadata": {},
   "outputs": [],
   "source": [
    "df[df['age']==df['age'].min()]['marital']\n",
    "# also the following method retur the same result:\n",
    "# idx_min = df['age'].idxmin()\n",
    "# df['marital'].iloc[idx_min]"
   ]
  },
  {
   "cell_type": "code",
   "execution_count": null,
   "id": "eee6aae6",
   "metadata": {},
   "outputs": [],
   "source": [
    "df['job'].nunique()"
   ]
  },
  {
   "cell_type": "code",
   "execution_count": null,
   "id": "0b496993",
   "metadata": {},
   "outputs": [],
   "source": [
    "df['job'].value_counts()"
   ]
  },
  {
   "cell_type": "code",
   "execution_count": null,
   "id": "cfa8c79b",
   "metadata": {},
   "outputs": [],
   "source": [
    "df['marital'].value_counts()['married']/len(df)"
   ]
  },
  {
   "cell_type": "code",
   "execution_count": null,
   "id": "1b7ae95a",
   "metadata": {},
   "outputs": [],
   "source": [
    "df['default code'] = df['default'].map({'no':0, 'yes':1})\n",
    "df.head()"
   ]
  },
  {
   "cell_type": "code",
   "execution_count": null,
   "id": "4d2d834e",
   "metadata": {},
   "outputs": [],
   "source": [
    "df['marital code'] = df['marital'].apply(lambda marital:marital[0])\n",
    "df.head()"
   ]
  },
  {
   "cell_type": "code",
   "execution_count": null,
   "id": "b83fb062",
   "metadata": {},
   "outputs": [],
   "source": [
    "df['duration'].max()"
   ]
  },
  {
   "cell_type": "code",
   "execution_count": null,
   "id": "b5256bcf",
   "metadata": {},
   "outputs": [],
   "source": [
    "df[df['job']=='unemployed']['education'].value_counts()"
   ]
  },
  {
   "cell_type": "code",
   "execution_count": null,
   "id": "9aa50726",
   "metadata": {},
   "outputs": [],
   "source": [
    "df[df['job']=='unemployed']['age'].mean()"
   ]
  },
  {
   "cell_type": "code",
   "execution_count": null,
   "id": "b928371b",
   "metadata": {},
   "outputs": [],
   "source": []
  },
  {
   "cell_type": "code",
   "execution_count": null,
   "id": "0d4819fc",
   "metadata": {},
   "outputs": [],
   "source": []
  }
 ],
 "metadata": {
  "kernelspec": {
   "display_name": "Python 3.8.11 ('myMLEnv')",
   "language": "python",
   "name": "python3"
  },
  "language_info": {
   "codemirror_mode": {
    "name": "ipython",
    "version": 3
   },
   "file_extension": ".py",
   "mimetype": "text/x-python",
   "name": "python",
   "nbconvert_exporter": "python",
   "pygments_lexer": "ipython3",
   "version": "3.8.11"
  },
  "vscode": {
   "interpreter": {
    "hash": "418a5ed4ed6d8198b840b61453495c26d507d70d3841dd181a7388aaa4474a5c"
   }
  }
 },
 "nbformat": 4,
 "nbformat_minor": 5
}
