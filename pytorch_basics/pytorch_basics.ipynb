{
 "cells": [
  {
   "cell_type": "code",
   "execution_count": null,
   "id": "5d2edd52",
   "metadata": {},
   "outputs": [],
   "source": [
    "import torch\n",
    "import numpy as np"
   ]
  },
  {
   "cell_type": "code",
   "execution_count": null,
   "id": "9bb533ee",
   "metadata": {},
   "outputs": [],
   "source": [
    "# torch.__version__"
   ]
  },
  {
   "cell_type": "code",
   "execution_count": null,
   "id": "f5e353ce",
   "metadata": {},
   "outputs": [],
   "source": [
    "arr = np.array([1, 2, 3, 4, 5])"
   ]
  },
  {
   "cell_type": "code",
   "execution_count": null,
   "id": "4e8b96d2",
   "metadata": {},
   "outputs": [],
   "source": [
    "torch.from_numpy(arr)"
   ]
  },
  {
   "cell_type": "code",
   "execution_count": null,
   "id": "bc3d22cb",
   "metadata": {},
   "outputs": [],
   "source": [
    "torch.as_tensor(arr)"
   ]
  },
  {
   "cell_type": "code",
   "execution_count": null,
   "id": "cf1ba2bb",
   "metadata": {},
   "outputs": [],
   "source": [
    "torch.tensor(arr)"
   ]
  },
  {
   "cell_type": "code",
   "execution_count": null,
   "id": "9359e76b",
   "metadata": {},
   "outputs": [],
   "source": []
  },
  {
   "cell_type": "code",
   "execution_count": null,
   "id": "8cfa4194",
   "metadata": {},
   "outputs": [],
   "source": [
    "mat = np.arange(0.0, 12.0)\n",
    "mat = mat.reshape((4, 3))\n",
    "x1 = torch.from_numpy(mat)\n",
    "x2 = torch.as_tensor(mat)\n",
    "x3 = torch.tensor(mat)        # this is the best method to define tensor; this works as a copy"
   ]
  },
  {
   "cell_type": "code",
   "execution_count": null,
   "id": "ad2eec9a",
   "metadata": {},
   "outputs": [],
   "source": [
    "mat[0, 0]= 1000\n",
    "mat"
   ]
  },
  {
   "cell_type": "code",
   "execution_count": null,
   "id": "f2ef28bd",
   "metadata": {},
   "outputs": [],
   "source": [
    "x1"
   ]
  },
  {
   "cell_type": "code",
   "execution_count": null,
   "id": "0165d1aa",
   "metadata": {},
   "outputs": [],
   "source": [
    "x2"
   ]
  },
  {
   "cell_type": "code",
   "execution_count": null,
   "id": "844efd0d",
   "metadata": {},
   "outputs": [],
   "source": [
    "x3"
   ]
  },
  {
   "cell_type": "code",
   "execution_count": null,
   "id": "291f7185",
   "metadata": {},
   "outputs": [],
   "source": []
  },
  {
   "cell_type": "code",
   "execution_count": null,
   "id": "c3ee2259",
   "metadata": {},
   "outputs": [],
   "source": [
    "torch.empty(4, 2)"
   ]
  },
  {
   "cell_type": "code",
   "execution_count": null,
   "id": "a84457cf",
   "metadata": {},
   "outputs": [],
   "source": [
    "torch.zeros(4, 2)"
   ]
  },
  {
   "cell_type": "code",
   "execution_count": null,
   "id": "8d73275a",
   "metadata": {},
   "outputs": [],
   "source": [
    "torch.zeros(4, 2, dtype=torch.int32)"
   ]
  },
  {
   "cell_type": "code",
   "execution_count": null,
   "id": "3752062d",
   "metadata": {},
   "outputs": [],
   "source": [
    "torch.ones(4, 2, dtype=torch.int32)"
   ]
  },
  {
   "cell_type": "code",
   "execution_count": null,
   "id": "9dbad8f6",
   "metadata": {},
   "outputs": [],
   "source": [
    "torch.arange(0, 18, 2).reshape(3,3)"
   ]
  },
  {
   "cell_type": "code",
   "execution_count": null,
   "id": "e1288339",
   "metadata": {},
   "outputs": [],
   "source": [
    "torch.linspace(0, 18, 12).reshape(3, 4)"
   ]
  },
  {
   "cell_type": "code",
   "execution_count": null,
   "id": "033c6be2",
   "metadata": {},
   "outputs": [],
   "source": []
  },
  {
   "cell_type": "code",
   "execution_count": null,
   "id": "b5e0e833",
   "metadata": {},
   "outputs": [],
   "source": [
    "my_tensor = torch.tensor([1,2,3])"
   ]
  },
  {
   "cell_type": "code",
   "execution_count": null,
   "id": "ea1e2ae1",
   "metadata": {},
   "outputs": [],
   "source": [
    "my_tensor.dtype"
   ]
  },
  {
   "cell_type": "code",
   "execution_count": null,
   "id": "0c6814b9",
   "metadata": {},
   "outputs": [],
   "source": [
    "my_tensor = my_tensor.type(torch.int32)"
   ]
  },
  {
   "cell_type": "code",
   "execution_count": null,
   "id": "8fcffe1d",
   "metadata": {},
   "outputs": [],
   "source": [
    "my_tensor.dtype"
   ]
  },
  {
   "cell_type": "code",
   "execution_count": null,
   "id": "ea7d8979",
   "metadata": {},
   "outputs": [],
   "source": []
  },
  {
   "cell_type": "code",
   "execution_count": null,
   "id": "d615a95a",
   "metadata": {},
   "outputs": [],
   "source": [
    "torch.rand(3,4)      # returns numbers from a uniform distribution"
   ]
  },
  {
   "cell_type": "code",
   "execution_count": null,
   "id": "18834c1c",
   "metadata": {},
   "outputs": [],
   "source": [
    "torch.randn(3,4)     # returns numbers from a standard distribution"
   ]
  },
  {
   "cell_type": "code",
   "execution_count": null,
   "id": "80248542",
   "metadata": {},
   "outputs": [],
   "source": [
    "torch.randint(low=0, high=11, size=(5,5))"
   ]
  },
  {
   "cell_type": "code",
   "execution_count": null,
   "id": "10b80655",
   "metadata": {},
   "outputs": [],
   "source": []
  },
  {
   "cell_type": "code",
   "execution_count": null,
   "id": "3130654d",
   "metadata": {},
   "outputs": [],
   "source": [
    "x = torch.zeros(2,5)\n",
    "x"
   ]
  },
  {
   "cell_type": "code",
   "execution_count": null,
   "id": "0df532f2",
   "metadata": {},
   "outputs": [],
   "source": [
    "torch.rand_like(x)"
   ]
  },
  {
   "cell_type": "code",
   "execution_count": null,
   "id": "7a0e4520",
   "metadata": {},
   "outputs": [],
   "source": [
    "torch.randn_like(x)"
   ]
  },
  {
   "cell_type": "code",
   "execution_count": null,
   "id": "66ede6d7",
   "metadata": {},
   "outputs": [],
   "source": [
    "torch.randint_like(x, low=0, high=11)"
   ]
  },
  {
   "cell_type": "code",
   "execution_count": null,
   "id": "3172dbd0",
   "metadata": {},
   "outputs": [],
   "source": []
  },
  {
   "cell_type": "code",
   "execution_count": null,
   "id": "32dfe81e",
   "metadata": {},
   "outputs": [],
   "source": [
    "torch.manual_seed(42)\n",
    "torch.rand(2,3)"
   ]
  },
  {
   "cell_type": "code",
   "execution_count": null,
   "id": "47c3fc92",
   "metadata": {},
   "outputs": [],
   "source": []
  },
  {
   "cell_type": "code",
   "execution_count": null,
   "id": "3dbc2a52",
   "metadata": {},
   "outputs": [],
   "source": [
    "x = torch.arange(6).reshape(3, 2)\n",
    "x"
   ]
  },
  {
   "cell_type": "code",
   "execution_count": null,
   "id": "b7ce7eec",
   "metadata": {},
   "outputs": [],
   "source": [
    "x[:, 1]"
   ]
  },
  {
   "cell_type": "code",
   "execution_count": null,
   "id": "2c14875d",
   "metadata": {},
   "outputs": [],
   "source": [
    "x[:, 1].reshape(3,1)\n",
    "# also can get the same result by x[:,1:]"
   ]
  },
  {
   "cell_type": "code",
   "execution_count": null,
   "id": "3f504cac",
   "metadata": {},
   "outputs": [],
   "source": []
  },
  {
   "cell_type": "code",
   "execution_count": null,
   "id": "a971d15d",
   "metadata": {},
   "outputs": [],
   "source": [
    "x = torch.arange(10)\n",
    "x"
   ]
  },
  {
   "cell_type": "code",
   "execution_count": null,
   "id": "7a7c2719",
   "metadata": {},
   "outputs": [],
   "source": [
    "# INFER what the 2nd dimension has to be\n",
    "x.view(2,-1)"
   ]
  },
  {
   "cell_type": "code",
   "execution_count": null,
   "id": "49f58da7",
   "metadata": {},
   "outputs": [],
   "source": [
    "x"
   ]
  },
  {
   "cell_type": "code",
   "execution_count": null,
   "id": "9ec02ada",
   "metadata": {},
   "outputs": [],
   "source": [
    "# INFER what the 2nd dimension has to be\n",
    "x.reshape(2, -1)"
   ]
  },
  {
   "cell_type": "code",
   "execution_count": null,
   "id": "9e56e720",
   "metadata": {},
   "outputs": [],
   "source": [
    "x"
   ]
  },
  {
   "cell_type": "code",
   "execution_count": null,
   "id": "51ee363f",
   "metadata": {},
   "outputs": [],
   "source": [
    "x[0] = 999"
   ]
  },
  {
   "cell_type": "code",
   "execution_count": null,
   "id": "0033dad5",
   "metadata": {},
   "outputs": [],
   "source": [
    "x.view(2,-1)"
   ]
  },
  {
   "cell_type": "code",
   "execution_count": null,
   "id": "67173a8d",
   "metadata": {},
   "outputs": [],
   "source": [
    "x.reshape(2,-1)"
   ]
  },
  {
   "cell_type": "code",
   "execution_count": null,
   "id": "bc7a8203",
   "metadata": {},
   "outputs": [],
   "source": [
    "x"
   ]
  },
  {
   "cell_type": "code",
   "execution_count": null,
   "id": "25d2f374",
   "metadata": {},
   "outputs": [],
   "source": []
  },
  {
   "cell_type": "code",
   "execution_count": null,
   "id": "15acbd46",
   "metadata": {},
   "outputs": [],
   "source": [
    "a = torch.tensor([1., 2., 3.])\n",
    "b = torch.tensor([4., 5., 6.])"
   ]
  },
  {
   "cell_type": "code",
   "execution_count": null,
   "id": "c9ec5099",
   "metadata": {},
   "outputs": [],
   "source": [
    "a + b\n",
    "# can get the same result using torch.add(a,b)\n",
    "# can get the same result using a.add(b)"
   ]
  },
  {
   "cell_type": "code",
   "execution_count": null,
   "id": "ff1c81ec",
   "metadata": {},
   "outputs": [],
   "source": [
    "a"
   ]
  },
  {
   "cell_type": "code",
   "execution_count": null,
   "id": "6f47e2e0",
   "metadata": {},
   "outputs": [],
   "source": [
    "a.add_(b)\n",
    "# can get the same result using a = a.add(b)\n",
    "# can get the same result using a = torch.add(a,b)\n",
    "# can get the same result using a = a + b"
   ]
  },
  {
   "cell_type": "code",
   "execution_count": null,
   "id": "687667f8",
   "metadata": {},
   "outputs": [],
   "source": []
  },
  {
   "cell_type": "code",
   "execution_count": null,
   "id": "f14c20fb",
   "metadata": {},
   "outputs": [],
   "source": [
    "a = torch.tensor([1., 2., 3.])\n",
    "b = torch.tensor([4., 5., 6.])"
   ]
  },
  {
   "cell_type": "code",
   "execution_count": null,
   "id": "bd28cd24",
   "metadata": {},
   "outputs": [],
   "source": [
    "a.mul(b)"
   ]
  },
  {
   "cell_type": "code",
   "execution_count": null,
   "id": "0fbcc773",
   "metadata": {},
   "outputs": [],
   "source": [
    "a.dot(b)"
   ]
  },
  {
   "cell_type": "code",
   "execution_count": null,
   "id": "b10b9acf",
   "metadata": {},
   "outputs": [],
   "source": []
  },
  {
   "cell_type": "code",
   "execution_count": null,
   "id": "775bbda4",
   "metadata": {},
   "outputs": [],
   "source": [
    "a = torch.arange(1., 7.).reshape(2,3)\n",
    "a"
   ]
  },
  {
   "cell_type": "code",
   "execution_count": null,
   "id": "0fe979cd",
   "metadata": {},
   "outputs": [],
   "source": [
    "b = torch.arange(1., 7.).reshape(3,2)\n",
    "b"
   ]
  },
  {
   "cell_type": "code",
   "execution_count": null,
   "id": "2a791f67",
   "metadata": {},
   "outputs": [],
   "source": [
    "torch.mm(a,b)\n",
    "# can get the same result using a @ b"
   ]
  },
  {
   "cell_type": "code",
   "execution_count": null,
   "id": "1fa7ae64",
   "metadata": {},
   "outputs": [],
   "source": []
  },
  {
   "cell_type": "code",
   "execution_count": null,
   "id": "dfd720ff",
   "metadata": {},
   "outputs": [],
   "source": [
    "x = torch.tensor([1,2,3,4,5], dtype=torch.float32)\n",
    "x"
   ]
  },
  {
   "cell_type": "code",
   "execution_count": null,
   "id": "fb5bf252",
   "metadata": {},
   "outputs": [],
   "source": [
    "x.norm()"
   ]
  },
  {
   "cell_type": "code",
   "execution_count": null,
   "id": "c636e06a",
   "metadata": {},
   "outputs": [],
   "source": [
    "x.numel()"
   ]
  },
  {
   "cell_type": "code",
   "execution_count": null,
   "id": "b0f3078c",
   "metadata": {},
   "outputs": [],
   "source": []
  },
  {
   "cell_type": "code",
   "execution_count": null,
   "id": "c596807f",
   "metadata": {},
   "outputs": [],
   "source": []
  },
  {
   "cell_type": "code",
   "execution_count": null,
   "id": "61f45c23",
   "metadata": {},
   "outputs": [],
   "source": [
    "## pytorch auto gradient explanation"
   ]
  },
  {
   "cell_type": "code",
   "execution_count": null,
   "id": "3cfe855a",
   "metadata": {},
   "outputs": [],
   "source": [
    "x = torch.tensor(2.0, requires_grad=True)"
   ]
  },
  {
   "cell_type": "code",
   "execution_count": null,
   "id": "a0feb120",
   "metadata": {},
   "outputs": [],
   "source": [
    "y = 2*x**4 + x**3 + 3*x**2 + 5*x + 1"
   ]
  },
  {
   "cell_type": "code",
   "execution_count": null,
   "id": "0aab79a5",
   "metadata": {},
   "outputs": [],
   "source": [
    "y.backward()"
   ]
  },
  {
   "cell_type": "code",
   "execution_count": null,
   "id": "a449485d",
   "metadata": {},
   "outputs": [],
   "source": [
    "x.grad"
   ]
  },
  {
   "cell_type": "code",
   "execution_count": null,
   "id": "91cc8dba",
   "metadata": {},
   "outputs": [],
   "source": []
  },
  {
   "cell_type": "code",
   "execution_count": null,
   "id": "561229cc",
   "metadata": {},
   "outputs": [],
   "source": [
    "x = torch.tensor([[1., 2., 3.],[3., 2., 1.]], requires_grad=True)\n",
    "x"
   ]
  },
  {
   "cell_type": "code",
   "execution_count": null,
   "id": "6d545654",
   "metadata": {},
   "outputs": [],
   "source": [
    "y = 3*x + 2\n",
    "y"
   ]
  },
  {
   "cell_type": "code",
   "execution_count": null,
   "id": "11a83f90",
   "metadata": {},
   "outputs": [],
   "source": [
    "z = 2*y**2\n",
    "z"
   ]
  },
  {
   "cell_type": "code",
   "execution_count": null,
   "id": "e9f7c6dd",
   "metadata": {},
   "outputs": [],
   "source": [
    "out = z.mean()\n",
    "out"
   ]
  },
  {
   "cell_type": "code",
   "execution_count": null,
   "id": "48e40e7c",
   "metadata": {},
   "outputs": [],
   "source": [
    "out.backward()"
   ]
  },
  {
   "cell_type": "code",
   "execution_count": null,
   "id": "bf8eebeb",
   "metadata": {},
   "outputs": [],
   "source": [
    "x.grad"
   ]
  },
  {
   "cell_type": "code",
   "execution_count": null,
   "id": "c2eea966",
   "metadata": {},
   "outputs": [],
   "source": []
  }
 ],
 "metadata": {
  "kernelspec": {
   "display_name": "Python 3.8.11 ('myMLEnv')",
   "language": "python",
   "name": "python3"
  },
  "language_info": {
   "codemirror_mode": {
    "name": "ipython",
    "version": 3
   },
   "file_extension": ".py",
   "mimetype": "text/x-python",
   "name": "python",
   "nbconvert_exporter": "python",
   "pygments_lexer": "ipython3",
   "version": "3.8.11"
  },
  "vscode": {
   "interpreter": {
    "hash": "418a5ed4ed6d8198b840b61453495c26d507d70d3841dd181a7388aaa4474a5c"
   }
  }
 },
 "nbformat": 4,
 "nbformat_minor": 5
}
