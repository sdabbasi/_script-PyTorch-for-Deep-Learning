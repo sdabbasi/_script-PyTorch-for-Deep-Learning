{
 "cells": [
  {
   "cell_type": "code",
   "execution_count": null,
   "id": "a8982890",
   "metadata": {},
   "outputs": [],
   "source": [
    "import torch\n",
    "import torch.nn as nn\n",
    "import torch.nn.functional as F\n",
    "from torch.utils.data import DataLoader\n",
    "from torchvision import datasets, transforms\n",
    "from torchvision.utils import make_grid\n",
    "\n",
    "import numpy as np\n",
    "import pandas as pd\n",
    "from sklearn.metrics import confusion_matrix\n",
    "import matplotlib.pyplot as plt"
   ]
  },
  {
   "cell_type": "code",
   "execution_count": null,
   "id": "a471d71d",
   "metadata": {},
   "outputs": [],
   "source": [
    "transform = transforms.ToTensor()\n",
    "train_data = datasets.MNIST(root='../data/cnn_files', train=True, download=False, transform=transform)\n",
    "test_data = datasets.MNIST(root='../data/cnn_files', train=False, download=False, transform=transform)"
   ]
  },
  {
   "cell_type": "code",
   "execution_count": null,
   "id": "76d25501",
   "metadata": {},
   "outputs": [],
   "source": [
    "train_data"
   ]
  },
  {
   "cell_type": "code",
   "execution_count": null,
   "id": "467b2107",
   "metadata": {},
   "outputs": [],
   "source": [
    "test_data"
   ]
  },
  {
   "cell_type": "code",
   "execution_count": null,
   "id": "56e14e0c",
   "metadata": {},
   "outputs": [],
   "source": [
    "train_loader = DataLoader(train_data, batch_size=10, shuffle=True)\n",
    "test_loader = DataLoader(test_data, batch_size=10, shuffle=False)"
   ]
  },
  {
   "cell_type": "code",
   "execution_count": null,
   "id": "d5545d77",
   "metadata": {},
   "outputs": [],
   "source": []
  },
  {
   "cell_type": "code",
   "execution_count": null,
   "id": "c3f77426",
   "metadata": {},
   "outputs": [],
   "source": []
  },
  {
   "cell_type": "code",
   "execution_count": null,
   "id": "707295ca",
   "metadata": {},
   "outputs": [],
   "source": [
    "############### let's see how does Conv layer works"
   ]
  },
  {
   "cell_type": "code",
   "execution_count": null,
   "id": "e70c9c3e",
   "metadata": {},
   "outputs": [],
   "source": [
    "conv1 = nn.Conv2d(in_channels=1, out_channels=6, kernel_size=3, stride=1)\n",
    "# can consider the in_channels as the number of feature maps produced by previous layer\n",
    "# can consider the out_channels as the number of feature maps producing by current layer == number of filters\n",
    "\n",
    "conv2 = nn.Conv2d(in_channels=6, out_channels=16, kernel_size=3, stride=1)"
   ]
  },
  {
   "cell_type": "code",
   "execution_count": null,
   "id": "2005e0c1",
   "metadata": {},
   "outputs": [],
   "source": [
    "for i, (X_train, y_train) in enumerate(train_data):\n",
    "    break"
   ]
  },
  {
   "cell_type": "code",
   "execution_count": null,
   "id": "ec0f1a3b",
   "metadata": {},
   "outputs": [],
   "source": [
    "X_train.shape"
   ]
  },
  {
   "cell_type": "code",
   "execution_count": null,
   "id": "dbbbe9cd",
   "metadata": {},
   "outputs": [],
   "source": [
    "# have to change the shape of the input to a 4D batch (however we can create a batch of 1 image)\n",
    "x = X_train.view(1,1,28,28)"
   ]
  },
  {
   "cell_type": "code",
   "execution_count": null,
   "id": "25cdc3d9",
   "metadata": {},
   "outputs": [],
   "source": [
    "x = F.relu(conv1(x))\n",
    "x.shape"
   ]
  },
  {
   "cell_type": "code",
   "execution_count": null,
   "id": "bcdf10d8",
   "metadata": {},
   "outputs": [],
   "source": [
    "x = F.max_pool2d(x, 2, 2)\n",
    "x.shape"
   ]
  },
  {
   "cell_type": "code",
   "execution_count": null,
   "id": "71d8ea00",
   "metadata": {},
   "outputs": [],
   "source": [
    "x = F.relu(conv2(x))\n",
    "x.shape"
   ]
  },
  {
   "cell_type": "code",
   "execution_count": null,
   "id": "2563d6a7",
   "metadata": {},
   "outputs": [],
   "source": [
    "x = F.max_pool2d(x, 2, 2)\n",
    "x.shape"
   ]
  },
  {
   "cell_type": "code",
   "execution_count": null,
   "id": "2dca28e3",
   "metadata": {},
   "outputs": [],
   "source": [
    "###############"
   ]
  },
  {
   "cell_type": "code",
   "execution_count": null,
   "id": "21c70544",
   "metadata": {},
   "outputs": [],
   "source": []
  },
  {
   "cell_type": "code",
   "execution_count": null,
   "id": "90fe8636",
   "metadata": {},
   "outputs": [],
   "source": []
  },
  {
   "cell_type": "code",
   "execution_count": null,
   "id": "851a1cc4",
   "metadata": {},
   "outputs": [],
   "source": [
    "class ConvolutionalNetwork(nn.Module):\n",
    "    def __init__(self):\n",
    "        super().__init__()\n",
    "        self.conv1 = nn.Conv2d(in_channels=1, out_channels=6, kernel_size=3, stride=1)\n",
    "        self.conv2 = nn.Conv2d(in_channels=6, out_channels=16, kernel_size=3, stride=1)\n",
    "        self.fc1 = nn.Linear(5*5*16, 120)\n",
    "        self.fc2 = nn.Linear(120, 84)\n",
    "        self.fc3 = nn.Linear(84, 10)\n",
    "        \n",
    "    def forward(self, X):\n",
    "        X = F.relu(self.conv1(X))\n",
    "        X = F.max_pool2d(X, 2, 2)\n",
    "        X = F.relu(self.conv2(X))\n",
    "        X = F.max_pool2d(X, 2, 2)\n",
    "        X = X.view(-1, 16*5*5)\n",
    "        X = F.relu(self.fc1(X))\n",
    "        X = F.relu(self.fc2(X))\n",
    "        X = F.log_softmax(self.fc3(X), dim=1)\n",
    "        \n",
    "        return X"
   ]
  },
  {
   "cell_type": "code",
   "execution_count": null,
   "id": "272271a0",
   "metadata": {},
   "outputs": [],
   "source": [
    "torch.manual_seed(42)\n",
    "model = ConvolutionalNetwork()\n",
    "model"
   ]
  },
  {
   "cell_type": "code",
   "execution_count": null,
   "id": "9affde89",
   "metadata": {},
   "outputs": [],
   "source": [
    "for params in model.parameters():\n",
    "    print(params.numel())"
   ]
  },
  {
   "cell_type": "code",
   "execution_count": null,
   "id": "12fb0cf7",
   "metadata": {},
   "outputs": [],
   "source": [
    "criterion = nn.CrossEntropyLoss()\n",
    "optimizer = torch.optim.Adam(model.parameters(), lr=0.001)"
   ]
  },
  {
   "cell_type": "code",
   "execution_count": null,
   "id": "a08cf891",
   "metadata": {},
   "outputs": [],
   "source": [
    "import time\n",
    "start_time = time.time()\n",
    "\n",
    "epochs = 5\n",
    "train_losses_list = []\n",
    "test_losses_list = []\n",
    "train_corrects_list = []\n",
    "test_corrects_list = []\n",
    "\n",
    "for i in range(epochs):\n",
    "    train_correct = 0\n",
    "    test_correct = 0\n",
    "    \n",
    "    for batch_num, (X_train, y_train) in enumerate(train_loader):\n",
    "        batch_num += 1\n",
    "        \n",
    "        y_pred = model.forward(X_train)\n",
    "        loss = criterion(y_pred, y_train)\n",
    "        \n",
    "        predicted = torch.max(y_pred.data, dim=1)[1]\n",
    "        batch_corrects = (predicted == y_train).sum()\n",
    "        train_correct += batch_corrects\n",
    "        \n",
    "        optimizer.zero_grad()\n",
    "        loss.backward()\n",
    "        optimizer.step()\n",
    "        \n",
    "        if batch_num % 600 == 0:\n",
    "            accuracy_till_here = (train_correct.item()/(batch_num*10))*100\n",
    "            print(f'epoch: {i}, batch number:{batch_num}, loss:{loss.item()}, accuracy:{accuracy_till_here}')\n",
    "\n",
    "    train_losses_list.append(loss)\n",
    "    train_corrects_list.append(train_correct)\n",
    "                                  \n",
    "    with torch.no_grad():\n",
    "        for batch_num, (X_test, y_test) in enumerate(test_loader):\n",
    "            batch_num += 1\n",
    "\n",
    "            y_eval = model.forward(X_test)\n",
    "\n",
    "            predicted = torch.max(y_eval.data, dim=1)[1]\n",
    "            batch_corrects = (predicted == y_test).sum()\n",
    "            test_correct += batch_corrects\n",
    "\n",
    "        loss = criterion(y_eval, y_test)\n",
    "        test_losses_list.append(loss)\n",
    "        test_corrects_list.append(test_correct)\n",
    "\n",
    "duration = time.time() - start_time\n",
    "print(f'Training took {duration/60} mins')"
   ]
  },
  {
   "cell_type": "code",
   "execution_count": null,
   "id": "a900349c",
   "metadata": {},
   "outputs": [],
   "source": [
    "plt.plot(train_losses_list, label='train loss')\n",
    "plt.plot(test_losses_list, label='validation loss')\n",
    "plt.title('loss at epoch')\n",
    "plt.legend()"
   ]
  },
  {
   "cell_type": "code",
   "execution_count": null,
   "id": "6ada3a43",
   "metadata": {},
   "outputs": [],
   "source": [
    "plt.plot([(t.item()/60000)*100 for t in train_corrects_list], label='train accuracy')\n",
    "plt.plot([(t.item()/10000)*100 for t in test_corrects_list], label='validation accuracy')\n",
    "plt.title('Accuracy at the end of each epoch')\n",
    "plt.legend()"
   ]
  },
  {
   "cell_type": "code",
   "execution_count": null,
   "id": "c375d43b",
   "metadata": {},
   "outputs": [],
   "source": [
    "test_all_loader = DataLoader(test_data, batch_size=10000, shuffle=False)\n",
    "with torch.no_grad():\n",
    "    for X_test, y_test in test_all_loader:\n",
    "        y_val = model.forward(X_test)\n",
    "        predicted = torch.max(y_val, 1)[1]\n",
    "        corrects = (predicted == y_test).sum()\n",
    "corrects.item()/len(X_test)  "
   ]
  },
  {
   "cell_type": "code",
   "execution_count": null,
   "id": "019c1665",
   "metadata": {},
   "outputs": [],
   "source": [
    "confusion_matrix(predicted, y_test)"
   ]
  },
  {
   "cell_type": "code",
   "execution_count": null,
   "id": "923586b6",
   "metadata": {},
   "outputs": [],
   "source": []
  },
  {
   "cell_type": "code",
   "execution_count": null,
   "id": "600a6e96",
   "metadata": {},
   "outputs": [],
   "source": [
    "# let's check for a single data\n",
    "plt.imshow(test_data[2000][0].reshape(28,28), cmap='gray')"
   ]
  },
  {
   "cell_type": "code",
   "execution_count": null,
   "id": "b32c3015",
   "metadata": {},
   "outputs": [],
   "source": [
    "model.eval()\n",
    "with torch.no_grad():\n",
    "    the_prediction = model.forward(test_data[2000][0].view(1,1,28,28))\n",
    "the_prediction.argmax().item()"
   ]
  },
  {
   "cell_type": "code",
   "execution_count": null,
   "id": "c793d87b",
   "metadata": {},
   "outputs": [],
   "source": []
  }
 ],
 "metadata": {
  "kernelspec": {
   "display_name": "Python 3.8.11 ('myMLEnv')",
   "language": "python",
   "name": "python3"
  },
  "language_info": {
   "codemirror_mode": {
    "name": "ipython",
    "version": 3
   },
   "file_extension": ".py",
   "mimetype": "text/x-python",
   "name": "python",
   "nbconvert_exporter": "python",
   "pygments_lexer": "ipython3",
   "version": "3.8.11"
  },
  "vscode": {
   "interpreter": {
    "hash": "418a5ed4ed6d8198b840b61453495c26d507d70d3841dd181a7388aaa4474a5c"
   }
  }
 },
 "nbformat": 4,
 "nbformat_minor": 5
}
