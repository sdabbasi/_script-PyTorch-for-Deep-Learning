{
 "cells": [
  {
   "cell_type": "code",
   "execution_count": null,
   "id": "77d637cf",
   "metadata": {},
   "outputs": [],
   "source": [
    "import torch\n",
    "import torch.nn as nn\n",
    "import torch.nn.functional as F\n",
    "from torch.utils.data import DataLoader\n",
    "from torchvision import datasets, transforms\n",
    "\n",
    "import numpy as np\n",
    "import pandas as pd\n",
    "import matplotlib.pyplot as plt"
   ]
  },
  {
   "cell_type": "code",
   "execution_count": null,
   "id": "40c54bca",
   "metadata": {},
   "outputs": [],
   "source": [
    "import os\n",
    "from PIL import Image\n",
    "from IPython.display import display\n",
    "\n",
    "# Filter harmless warnings\n",
    "import warnings\n",
    "warnings.filterwarnings(\"ignore\")"
   ]
  },
  {
   "cell_type": "code",
   "execution_count": null,
   "id": "3f9fae75",
   "metadata": {},
   "outputs": [],
   "source": []
  },
  {
   "cell_type": "code",
   "execution_count": null,
   "id": "8b7ce333",
   "metadata": {},
   "outputs": [],
   "source": [
    "with Image.open('../data/cnn_files/CATS_DOGS/test/CAT/10000.jpg') as im:\n",
    "    display(im)"
   ]
  },
  {
   "cell_type": "code",
   "execution_count": null,
   "id": "c97686b8",
   "metadata": {},
   "outputs": [],
   "source": [
    "im.size"
   ]
  },
  {
   "cell_type": "code",
   "execution_count": null,
   "id": "48e2f269",
   "metadata": {},
   "outputs": [],
   "source": [
    "path = '../data/cnn_files/CATS_DOGS/'\n",
    "img_names = []\n",
    "for folder, subfolder, filenames in os.walk(path):\n",
    "    for img in filenames:\n",
    "        img_names.append(folder + '/' + img)\n"
   ]
  },
  {
   "cell_type": "code",
   "execution_count": null,
   "id": "b011b39d",
   "metadata": {},
   "outputs": [],
   "source": [
    "len(img_names)"
   ]
  },
  {
   "cell_type": "code",
   "execution_count": null,
   "id": "cb8c0563",
   "metadata": {},
   "outputs": [],
   "source": [
    "img_sizes = []\n",
    "rejected = []\n",
    "\n",
    "for item in img_names:\n",
    "    try:\n",
    "        with Image.open(item) as img:\n",
    "            img_sizes.append(img.size)\n",
    "    except:\n",
    "        rejected.append(item)"
   ]
  },
  {
   "cell_type": "code",
   "execution_count": null,
   "id": "11eefd47",
   "metadata": {},
   "outputs": [],
   "source": [
    "print(len(img_sizes))\n",
    "print(len(rejected))"
   ]
  },
  {
   "cell_type": "code",
   "execution_count": null,
   "id": "58b283eb",
   "metadata": {},
   "outputs": [],
   "source": [
    "df = pd.DataFrame(img_sizes, columns=('width', 'height'))"
   ]
  },
  {
   "cell_type": "code",
   "execution_count": null,
   "id": "075f8d7f",
   "metadata": {},
   "outputs": [],
   "source": [
    "df.head()"
   ]
  },
  {
   "cell_type": "code",
   "execution_count": null,
   "id": "3e91723a",
   "metadata": {},
   "outputs": [],
   "source": [
    "df['width'].describe()"
   ]
  },
  {
   "cell_type": "code",
   "execution_count": null,
   "id": "12302fae",
   "metadata": {},
   "outputs": [],
   "source": [
    "df['height'].describe()"
   ]
  },
  {
   "cell_type": "code",
   "execution_count": null,
   "id": "fdd5fa8b",
   "metadata": {},
   "outputs": [],
   "source": [
    "dog = Image.open('../data/cnn_files/CATS_DOGS/train/DOG/14.jpg')\n",
    "display(dog)"
   ]
  },
  {
   "cell_type": "code",
   "execution_count": null,
   "id": "11cef851",
   "metadata": {},
   "outputs": [],
   "source": [
    "dog.size"
   ]
  },
  {
   "cell_type": "code",
   "execution_count": null,
   "id": "c65283a9",
   "metadata": {},
   "outputs": [],
   "source": [
    "dog.getpixel((0,0))"
   ]
  },
  {
   "cell_type": "code",
   "execution_count": null,
   "id": "2ec68c1d",
   "metadata": {},
   "outputs": [],
   "source": [
    "transform = transforms.Compose([\n",
    "    transforms.ToTensor()\n",
    "])\n",
    "im = transform(dog)\n",
    "print(type(im))\n",
    "print(im.shape)"
   ]
  },
  {
   "cell_type": "code",
   "execution_count": null,
   "id": "2691b12e",
   "metadata": {},
   "outputs": [],
   "source": [
    "im"
   ]
  },
  {
   "cell_type": "code",
   "execution_count": null,
   "id": "f87476ae",
   "metadata": {},
   "outputs": [],
   "source": [
    "im[:,0,0]\n",
    "# this is actually the [90, 95, 98]/255 which 90, 95 and 98 are related to the first pixel of the image in RGB mode"
   ]
  },
  {
   "cell_type": "code",
   "execution_count": null,
   "id": "89213a13",
   "metadata": {},
   "outputs": [],
   "source": [
    "plt.imshow(np.transpose(im.numpy(), (1,2,0)))"
   ]
  },
  {
   "cell_type": "code",
   "execution_count": null,
   "id": "ce7a6eed",
   "metadata": {},
   "outputs": [],
   "source": [
    "transform = transforms.Compose([\n",
    "    transforms.Resize((800,2000)),\n",
    "    transforms.ToTensor()\n",
    "])\n",
    "im = transform(dog)\n",
    "plt.imshow(np.transpose(im.numpy(), (1,2,0)))"
   ]
  },
  {
   "cell_type": "code",
   "execution_count": null,
   "id": "a3da83f1",
   "metadata": {},
   "outputs": [],
   "source": [
    "transform = transforms.Compose([\n",
    "    transforms.Resize(250),\n",
    "    transforms.ToTensor()\n",
    "])\n",
    "im = transform(dog)\n",
    "plt.imshow(np.transpose(im.numpy(), (1,2,0)))"
   ]
  },
  {
   "cell_type": "code",
   "execution_count": null,
   "id": "1c42844c",
   "metadata": {},
   "outputs": [],
   "source": [
    "transform = transforms.Compose([\n",
    "    transforms.CenterCrop(350),\n",
    "    transforms.ToTensor()\n",
    "])\n",
    "im = transform(dog)\n",
    "plt.imshow(np.transpose(im.numpy(), (1,2,0)))"
   ]
  },
  {
   "cell_type": "code",
   "execution_count": null,
   "id": "d8977f80",
   "metadata": {},
   "outputs": [],
   "source": [
    "transform = transforms.Compose([\n",
    "    transforms.RandomHorizontalFlip(p=0.5),\n",
    "    transforms.ToTensor()\n",
    "])\n",
    "im = transform(dog)\n",
    "plt.imshow(np.transpose(im.numpy(), (1,2,0)))"
   ]
  },
  {
   "cell_type": "code",
   "execution_count": null,
   "id": "97092fe5",
   "metadata": {},
   "outputs": [],
   "source": [
    "transform = transforms.Compose([\n",
    "    transforms.RandomRotation(degrees=30),\n",
    "    transforms.ToTensor()\n",
    "])\n",
    "im = transform(dog)\n",
    "plt.imshow(np.transpose(im.numpy(), (1,2,0)))"
   ]
  },
  {
   "cell_type": "code",
   "execution_count": null,
   "id": "f4df0f32",
   "metadata": {},
   "outputs": [],
   "source": [
    "# As default, \"transforms\" module normalizes the pixels' values in an image between 0 and 1. But sometime we need to change the\n",
    "# normalization method; in the following we normalize the values using two list of values mean=[0.485, 0.456, 0.406] and \n",
    "# std=[0.229, 0.224, 0.225] which are very popular and practical values in the field.\n",
    "\n",
    "transform = transforms.Compose([\n",
    "    transforms.ToTensor(),\n",
    "    transforms.Normalize(mean=[0.485, 0.456, 0.406], std=[0.229, 0.224, 0.225])\n",
    "])\n",
    "im = transform(dog)\n",
    "plt.imshow(np.transpose(im.numpy(), (1,2,0)))"
   ]
  },
  {
   "cell_type": "code",
   "execution_count": null,
   "id": "f18cbc4b",
   "metadata": {},
   "outputs": [],
   "source": [
    "# this is how we can do inverse normalization\n",
    "inv_normalize = transforms.Normalize(\n",
    "                    mean = [-0.485/0.229, -0.456/0.224, -0.406/0.225],\n",
    "                    std = [1/0.229, 1/0.224, 1/0.225])\n",
    "im_inv = inv_normalize(im)\n",
    "plt.imshow(np.transpose(im_inv.numpy(), (1,2,0)))"
   ]
  },
  {
   "cell_type": "code",
   "execution_count": null,
   "id": "969327ae",
   "metadata": {},
   "outputs": [],
   "source": []
  },
  {
   "cell_type": "code",
   "execution_count": null,
   "id": "b3488c7a",
   "metadata": {},
   "outputs": [],
   "source": []
  },
  {
   "cell_type": "code",
   "execution_count": null,
   "id": "aacd4285",
   "metadata": {},
   "outputs": [],
   "source": []
  },
  {
   "cell_type": "code",
   "execution_count": null,
   "id": "381e9483",
   "metadata": {},
   "outputs": [],
   "source": []
  },
  {
   "cell_type": "code",
   "execution_count": null,
   "id": "a0df7ff6",
   "metadata": {},
   "outputs": [],
   "source": []
  },
  {
   "cell_type": "code",
   "execution_count": null,
   "id": "374f9345",
   "metadata": {},
   "outputs": [],
   "source": []
  },
  {
   "cell_type": "code",
   "execution_count": null,
   "id": "0f642638",
   "metadata": {},
   "outputs": [],
   "source": []
  },
  {
   "cell_type": "code",
   "execution_count": null,
   "id": "9d98fe51",
   "metadata": {},
   "outputs": [],
   "source": []
  },
  {
   "cell_type": "code",
   "execution_count": null,
   "id": "328db05b",
   "metadata": {},
   "outputs": [],
   "source": []
  }
 ],
 "metadata": {
  "kernelspec": {
   "display_name": "Python 3.8.11 ('myMLEnv')",
   "language": "python",
   "name": "python3"
  },
  "language_info": {
   "codemirror_mode": {
    "name": "ipython",
    "version": 3
   },
   "file_extension": ".py",
   "mimetype": "text/x-python",
   "name": "python",
   "nbconvert_exporter": "python",
   "pygments_lexer": "ipython3",
   "version": "3.8.11"
  },
  "vscode": {
   "interpreter": {
    "hash": "418a5ed4ed6d8198b840b61453495c26d507d70d3841dd181a7388aaa4474a5c"
   }
  }
 },
 "nbformat": 4,
 "nbformat_minor": 5
}
