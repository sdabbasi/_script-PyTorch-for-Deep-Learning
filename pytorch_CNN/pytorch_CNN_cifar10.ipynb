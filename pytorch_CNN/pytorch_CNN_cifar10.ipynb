{
 "cells": [
  {
   "cell_type": "code",
   "execution_count": null,
   "id": "8270e804",
   "metadata": {},
   "outputs": [],
   "source": [
    "import torch\n",
    "import torch.nn as nn\n",
    "import torch.nn.functional as F\n",
    "from torch.utils.data import DataLoader\n",
    "from torchvision import datasets, transforms\n",
    "from torchvision.utils import make_grid\n",
    "\n",
    "import numpy as np\n",
    "import pandas as pd\n",
    "import seaborn as sb     # this is for heatmaps\n",
    "from sklearn.metrics import confusion_matrix\n",
    "import matplotlib.pyplot as plt"
   ]
  },
  {
   "cell_type": "code",
   "execution_count": null,
   "id": "09601fe6",
   "metadata": {},
   "outputs": [],
   "source": [
    "transform = transforms.ToTensor()\n",
    "train_data = datasets.CIFAR10(root='../data/cnn_files/CIFAR10', train=True, download=True, transform=transform)\n",
    "test_data = datasets.CIFAR10(root='../data/cnn_files/CIFAR10', train=False, download=True, transform=transform)"
   ]
  },
  {
   "cell_type": "code",
   "execution_count": null,
   "id": "e023e02f",
   "metadata": {},
   "outputs": [],
   "source": [
    "train_data"
   ]
  },
  {
   "cell_type": "code",
   "execution_count": null,
   "id": "20757cf2",
   "metadata": {},
   "outputs": [],
   "source": [
    "test_data"
   ]
  },
  {
   "cell_type": "code",
   "execution_count": null,
   "id": "2f9eff10",
   "metadata": {},
   "outputs": [],
   "source": [
    "torch.manual_seed(101)\n",
    "train_loader = DataLoader(train_data, batch_size=10, shuffle=True)\n",
    "test_loader = DataLoader(test_data, batch_size=10, shuffle=False)"
   ]
  },
  {
   "cell_type": "code",
   "execution_count": null,
   "id": "954374d8",
   "metadata": {},
   "outputs": [],
   "source": []
  },
  {
   "cell_type": "code",
   "execution_count": null,
   "id": "b1b0958a",
   "metadata": {},
   "outputs": [],
   "source": []
  },
  {
   "cell_type": "code",
   "execution_count": null,
   "id": "f7970af3",
   "metadata": {},
   "outputs": [],
   "source": [
    "######################## let's see what does cifar10 look like\n",
    "class_names = ['plane', 'car', 'bird', 'cat', 'deer', 'dog', 'frog', 'horse', 'ship', 'truck']\n",
    "for images, labels in train_loader:\n",
    "    break"
   ]
  },
  {
   "cell_type": "code",
   "execution_count": null,
   "id": "7cc595e0",
   "metadata": {},
   "outputs": [],
   "source": [
    "labels"
   ]
  },
  {
   "cell_type": "code",
   "execution_count": null,
   "id": "e552b38c",
   "metadata": {},
   "outputs": [],
   "source": [
    "print(labels[:5])\n",
    "print([class_names[class_index] for class_index in labels[:5]])\n",
    "print(labels[5:])\n",
    "print([class_names[class_index] for class_index in labels[5:]])\n",
    "im = make_grid(images, nrow=5)\n",
    "plt.figure(figsize=(10,10))\n",
    "plt.imshow(np.transpose(im.numpy(), (1, 2, 0)))"
   ]
  },
  {
   "cell_type": "code",
   "execution_count": null,
   "id": "a4f0de88",
   "metadata": {},
   "outputs": [],
   "source": [
    "########################"
   ]
  },
  {
   "cell_type": "code",
   "execution_count": null,
   "id": "c943a0c7",
   "metadata": {},
   "outputs": [],
   "source": []
  },
  {
   "cell_type": "code",
   "execution_count": null,
   "id": "2fc4af76",
   "metadata": {},
   "outputs": [],
   "source": []
  },
  {
   "cell_type": "code",
   "execution_count": null,
   "id": "6ce81b66",
   "metadata": {},
   "outputs": [],
   "source": [
    "class ConvNet(nn.Module):\n",
    "    def __init__(self):\n",
    "        super().__init__()\n",
    "        self.conv1 = nn.Conv2d(in_channels=3, out_channels=6, kernel_size=5, stride=1)\n",
    "        self.conv2 = nn.Conv2d(in_channels=6, out_channels=16, kernel_size=3, stride=1)\n",
    "        self.fc1 = nn.Linear(6*6*16, 120)\n",
    "        self.fc2 = nn.Linear(120, 84)\n",
    "        self.fc3 = nn.Linear(84, 10)\n",
    "        \n",
    "    def forward(self, X):\n",
    "        X = F.relu(self.conv1(X))\n",
    "        X = F.max_pool2d(X, kernel_size=2, stride=2)\n",
    "        X = F.relu(self.conv2(X))\n",
    "        X = F.max_pool2d(X, kernel_size=2, stride=2)\n",
    "        X = X.view(-1, 6*6*16)\n",
    "        X = F.relu(self.fc1(X))\n",
    "        X = F.relu(self.fc2(X))\n",
    "        X = F.log_softmax(self.fc3(X), dim=1)\n",
    "        \n",
    "        return X       "
   ]
  },
  {
   "cell_type": "code",
   "execution_count": null,
   "id": "8d03c29d",
   "metadata": {},
   "outputs": [],
   "source": [
    "torch.manual_seed(101)\n",
    "model = ConvNet()\n",
    "model"
   ]
  },
  {
   "cell_type": "code",
   "execution_count": null,
   "id": "5fa6c3c5",
   "metadata": {},
   "outputs": [],
   "source": [
    "for params in model.parameters():\n",
    "    print(params.numel())"
   ]
  },
  {
   "cell_type": "code",
   "execution_count": null,
   "id": "db55ab62",
   "metadata": {},
   "outputs": [],
   "source": [
    "criterion = nn.CrossEntropyLoss()\n",
    "optimizer = torch.optim.Adam(model.parameters(), lr=0.001)"
   ]
  },
  {
   "cell_type": "code",
   "execution_count": null,
   "id": "a3aeb3f3",
   "metadata": {},
   "outputs": [],
   "source": [
    "import time\n",
    "start_time = time.time()\n",
    "\n",
    "epochs = 10\n",
    "train_losses_list = []\n",
    "test_losses_list = []\n",
    "train_corrects_list = []\n",
    "test_corrects_list = []\n",
    "\n",
    "for i in range(epochs):\n",
    "    train_correct = 0\n",
    "    test_correct = 0\n",
    "    \n",
    "    for batch_num, (X_train, y_train) in enumerate(train_loader):\n",
    "        batch_num += 1\n",
    "        \n",
    "        y_pred = model.forward(X_train)\n",
    "        loss = criterion(y_pred, y_train)\n",
    "        \n",
    "        predicted = torch.max(y_pred.data, dim=1)[1]\n",
    "        batch_corrects = (predicted == y_train).sum()\n",
    "        train_correct += batch_corrects\n",
    "        \n",
    "        optimizer.zero_grad()\n",
    "        loss.backward()\n",
    "        optimizer.step()\n",
    "        \n",
    "        if batch_num % 1000 == 0:\n",
    "            accuracy_till_here = (train_correct.item()/(batch_num*10))*100\n",
    "            print(f'epoch: {i}, batch number:{batch_num}, loss:{loss.item()}, accuracy:{accuracy_till_here}')\n",
    "\n",
    "    train_losses_list.append(loss)\n",
    "    train_corrects_list.append(train_correct)\n",
    "                                  \n",
    "    with torch.no_grad():\n",
    "        for batch_num, (X_test, y_test) in enumerate(test_loader):\n",
    "            batch_num += 1\n",
    "\n",
    "            y_eval = model.forward(X_test)\n",
    "\n",
    "            predicted = torch.max(y_eval.data, dim=1)[1]\n",
    "            batch_corrects = (predicted == y_test).sum()\n",
    "            test_correct += batch_corrects\n",
    "\n",
    "        loss = criterion(y_eval, y_test)\n",
    "        test_losses_list.append(loss)\n",
    "        test_corrects_list.append(test_correct)\n",
    "\n",
    "duration = time.time() - start_time\n",
    "print(f'Training took {duration/60} mins')"
   ]
  },
  {
   "cell_type": "code",
   "execution_count": null,
   "id": "581510b1",
   "metadata": {},
   "outputs": [],
   "source": [
    "torch.save(model.state_dict(), '../models/my_cnn_cifar10_1.pt')"
   ]
  },
  {
   "cell_type": "code",
   "execution_count": null,
   "id": "abf7b6b5",
   "metadata": {},
   "outputs": [],
   "source": [
    "plt.plot(train_losses_list, label='train loss')\n",
    "plt.plot(test_losses_list, label='validation loss')\n",
    "plt.title('loss at epoch')\n",
    "plt.legend()"
   ]
  },
  {
   "cell_type": "code",
   "execution_count": null,
   "id": "4828ba9a",
   "metadata": {},
   "outputs": [],
   "source": [
    "plt.plot([(t.item()/50000)*100 for t in train_corrects_list], label='train accuracy')\n",
    "plt.plot([(t.item()/10000)*100 for t in test_corrects_list], label='validation accuracy')\n",
    "plt.title('Accuracy at the end of each epoch')\n",
    "plt.legend()"
   ]
  },
  {
   "cell_type": "code",
   "execution_count": null,
   "id": "5c1d1aa5",
   "metadata": {},
   "outputs": [],
   "source": [
    "test_all_loader = DataLoader(test_data, batch_size=10000, shuffle=False)\n",
    "with torch.no_grad():\n",
    "    for X_test, y_test in test_all_loader:\n",
    "        y_val = model.forward(X_test)\n",
    "        predicted = torch.max(y_val, 1)[1]\n",
    "        corrects = (predicted == y_test).sum()\n",
    "corrects.item()/len(X_test)  "
   ]
  },
  {
   "cell_type": "code",
   "execution_count": null,
   "id": "8b3ef7a1",
   "metadata": {},
   "outputs": [],
   "source": [
    "conf_mat = confusion_matrix(predicted, y_test)\n",
    "df_conf_mat = pd.DataFrame(conf_mat, class_names, class_names)\n",
    "plt.figure(figsize=(9,6))\n",
    "sb.heatmap(df_conf_mat, annot=True, fmt='d', cmap='BuGn')\n",
    "plt.xlabel('prediction')\n",
    "plt.ylabel('label (ground truth)')\n",
    "plt.show()"
   ]
  },
  {
   "cell_type": "code",
   "execution_count": null,
   "id": "ae5c3865",
   "metadata": {},
   "outputs": [],
   "source": []
  },
  {
   "cell_type": "code",
   "execution_count": null,
   "id": "4234d4f8",
   "metadata": {},
   "outputs": [],
   "source": []
  },
  {
   "cell_type": "code",
   "execution_count": null,
   "id": "3de9e480",
   "metadata": {},
   "outputs": [],
   "source": []
  }
 ],
 "metadata": {
  "kernelspec": {
   "display_name": "Python 3.8.11 ('myMLEnv')",
   "language": "python",
   "name": "python3"
  },
  "language_info": {
   "codemirror_mode": {
    "name": "ipython",
    "version": 3
   },
   "file_extension": ".py",
   "mimetype": "text/x-python",
   "name": "python",
   "nbconvert_exporter": "python",
   "pygments_lexer": "ipython3",
   "version": "3.8.11"
  },
  "vscode": {
   "interpreter": {
    "hash": "418a5ed4ed6d8198b840b61453495c26d507d70d3841dd181a7388aaa4474a5c"
   }
  }
 },
 "nbformat": 4,
 "nbformat_minor": 5
}
