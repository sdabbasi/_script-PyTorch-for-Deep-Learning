{
 "cells": [
  {
   "cell_type": "code",
   "execution_count": null,
   "id": "a90f69ea",
   "metadata": {},
   "outputs": [],
   "source": [
    "import torch\n",
    "import torch.nn as nn\n",
    "import torch.nn.functional as F\n",
    "from torch.utils.data import DataLoader\n",
    "from torchvision import datasets, transforms\n",
    "from torchvision.utils import make_grid\n",
    "\n",
    "import pandas as pd\n",
    "import numpy as np\n",
    "from sklearn.metrics import confusion_matrix\n",
    "import matplotlib.pyplot as plt"
   ]
  },
  {
   "cell_type": "code",
   "execution_count": null,
   "id": "6c30855d",
   "metadata": {},
   "outputs": [],
   "source": [
    "transform = transforms.ToTensor()\n",
    "train_data = datasets.FashionMNIST(root='../data/cnn_files/', train=True, download=True, transform=transform)\n",
    "test_data = datasets.FashionMNIST(root='../data/cnn_files/', train=False, download=True, transform=transform)\n",
    "class_names = ['T-shirt', 'Trouser', 'Sweater', 'Dress', 'Coat', 'Sandal', 'Shirt', 'Sneaker', 'Bag', 'Boot']"
   ]
  },
  {
   "cell_type": "code",
   "execution_count": null,
   "id": "cda3c7d5",
   "metadata": {},
   "outputs": [],
   "source": [
    "train_data"
   ]
  },
  {
   "cell_type": "code",
   "execution_count": null,
   "id": "4d6adb58",
   "metadata": {},
   "outputs": [],
   "source": [
    "test_data"
   ]
  },
  {
   "cell_type": "code",
   "execution_count": null,
   "id": "ac4d40e1",
   "metadata": {},
   "outputs": [],
   "source": [
    "train_loader = DataLoader(train_data, batch_size=10, shuffle=True)\n",
    "test_loader = DataLoader(test_data, batch_size=10, shuffle=False)"
   ]
  },
  {
   "cell_type": "code",
   "execution_count": null,
   "id": "a0a80bf2",
   "metadata": {},
   "outputs": [],
   "source": []
  },
  {
   "cell_type": "code",
   "execution_count": null,
   "id": "0e17c83a",
   "metadata": {},
   "outputs": [],
   "source": [
    "for images, labels in train_loader:\n",
    "    break"
   ]
  },
  {
   "cell_type": "code",
   "execution_count": null,
   "id": "940ba3f2",
   "metadata": {},
   "outputs": [],
   "source": [
    "print(labels)\n",
    "print([class_names[index] for index in labels])\n",
    "im = make_grid(images, nrow=10)\n",
    "\n",
    "plt.figure(figsize=(12, 4))\n",
    "plt.imshow(np.transpose(im.numpy(),(1,2,0)))"
   ]
  },
  {
   "cell_type": "code",
   "execution_count": null,
   "id": "02f112e7",
   "metadata": {},
   "outputs": [],
   "source": [
    "class ConvNet(nn.Module):\n",
    "    def __init__(self):\n",
    "        super().__init__()\n",
    "        self.conv1 = nn.Conv2d(in_channels=1, out_channels=6, kernel_size=3, stride=1, padding='same')\n",
    "        self.conv2 = nn.Conv2d(in_channels=6, out_channels=16, kernel_size=3,stride=1, padding='same')\n",
    "        self.fc1 = nn.Linear(in_features=7*7*16, out_features=300)\n",
    "        self.fc2 = nn.Linear(in_features=300, out_features=100)\n",
    "        self.fc3 = nn.Linear(in_features=100, out_features=10)\n",
    "        \n",
    "    def forward(self, X):\n",
    "        X = F.relu(self.conv1(X))\n",
    "        X = F.max_pool2d(X, kernel_size=2, stride=2)\n",
    "        X = F.relu(self.conv2(X))\n",
    "        X = F.max_pool2d(X, kernel_size=2, stride=2)\n",
    "        X = X.view(-1, 7*7*16)\n",
    "        X = F.relu(self.fc1(X))\n",
    "        X = F.relu(self.fc2(X))\n",
    "        X = F.log_softmax(self.fc3(X), dim=1)\n",
    "        \n",
    "        return X"
   ]
  },
  {
   "cell_type": "code",
   "execution_count": null,
   "id": "01c90cd1",
   "metadata": {},
   "outputs": [],
   "source": [
    "torch.manual_seed(101)\n",
    "model = ConvNet()\n",
    "model"
   ]
  },
  {
   "cell_type": "code",
   "execution_count": null,
   "id": "948f0bfd",
   "metadata": {},
   "outputs": [],
   "source": [
    "for param in model.parameters():\n",
    "    print(param.numel())"
   ]
  },
  {
   "cell_type": "code",
   "execution_count": null,
   "id": "91517084",
   "metadata": {},
   "outputs": [],
   "source": [
    "criterion = nn.CrossEntropyLoss()\n",
    "optimizer = torch.optim.Adam(model.parameters(), lr=0.001)"
   ]
  },
  {
   "cell_type": "code",
   "execution_count": null,
   "id": "c7dd5ec0",
   "metadata": {},
   "outputs": [],
   "source": [
    "import time\n",
    "start_time = time.time()\n",
    "\n",
    "epoch = 5\n",
    "train_losses_list = []\n",
    "test_losses_list = []\n",
    "train_corrects_list = []\n",
    "test_corrects_list = []\n",
    "\n",
    "for i in range(epoch):\n",
    "    train_epoch_corrects = 0\n",
    "    test_epoch_corrects = 0\n",
    "    \n",
    "    for batch_num, (X_train, y_train) in enumerate(train_loader):\n",
    "        batch_num += 1\n",
    "        \n",
    "        y_pred = model.forward(X_train)\n",
    "        loss = criterion(y_pred, y_train)\n",
    "        \n",
    "        predicted = torch.max(y_pred.data, dim=1)[1]\n",
    "        batch_corrects = (predicted == y_train).sum()\n",
    "        train_epoch_corrects += batch_corrects\n",
    "        \n",
    "        optimizer.zero_grad()\n",
    "        loss.backward()\n",
    "        optimizer.step()\n",
    "        \n",
    "        if batch_num % 2000 == 0:\n",
    "            acc = (train_epoch_corrects / (batch_num*10))*100\n",
    "            print(f'epoch:{i}, batch:{batch_num}, loss:{loss}, acc:{acc}')\n",
    "        \n",
    "    train_losses_list.append(loss)\n",
    "    train_corrects_list.append(train_epoch_corrects)\n",
    "    \n",
    "    with torch.no_grad():\n",
    "        for batch_num, (X_test, y_test) in enumerate(test_loader):\n",
    "            batch_num += 1\n",
    "            \n",
    "            y_eval = model.forward(X_test)\n",
    "\n",
    "            predicted = torch.max(y_eval.data, dim=1)[1]\n",
    "            batch_corrects = (predicted == y_test).sum()\n",
    "            test_epoch_corrects += batch_corrects\n",
    "            \n",
    "        loss = criterion(y_eval, y_test)\n",
    "        test_losses_list.append(loss)\n",
    "        test_corrects_list.append(test_epoch_corrects)\n",
    "\n",
    "duration = time.time() - start_time\n",
    "print(f'Total time is {duration/60} mins')"
   ]
  },
  {
   "cell_type": "code",
   "execution_count": null,
   "id": "d29fb1aa",
   "metadata": {},
   "outputs": [],
   "source": [
    "torch.save(model.state_dict(), '../models/my_fashionmnist_cnn_1.pt')"
   ]
  },
  {
   "cell_type": "code",
   "execution_count": null,
   "id": "21bc3c0a",
   "metadata": {},
   "outputs": [],
   "source": [
    "plt.plot(train_losses_list, label='train loss')\n",
    "plt.plot(test_losses_list, label='validation loss')\n",
    "plt.title('loss at epoch')\n",
    "plt.legend()"
   ]
  },
  {
   "cell_type": "code",
   "execution_count": null,
   "id": "34db7ea3",
   "metadata": {},
   "outputs": [],
   "source": [
    "plt.plot([(t.item()/60000)*100 for t in train_corrects_list], label='train accuracy')\n",
    "plt.plot([(t.item()/10000)*100 for t in test_corrects_list], label='validation accuracy')\n",
    "plt.title('Accuracy at the end of each epoch')\n",
    "plt.legend()"
   ]
  },
  {
   "cell_type": "code",
   "execution_count": null,
   "id": "f9347267",
   "metadata": {},
   "outputs": [],
   "source": [
    "all_test_data = DataLoader(test_data, batch_size=10000, shuffle=False)\n",
    "with torch.no_grad():\n",
    "    for X_test, y_test in all_test_data:\n",
    "        y_eval = model.forward(X_test)\n",
    "        predicted = torch.max(y_eval.data, dim=1)[1]\n",
    "        batch_corrects = (predicted == y_test).sum()\n",
    "print(f'acc = {batch_corrects}/{10000} = {(batch_corrects/10000)*100}')"
   ]
  },
  {
   "cell_type": "code",
   "execution_count": null,
   "id": "ef7aae75",
   "metadata": {},
   "outputs": [],
   "source": []
  },
  {
   "cell_type": "code",
   "execution_count": null,
   "id": "16676239",
   "metadata": {},
   "outputs": [],
   "source": []
  }
 ],
 "metadata": {
  "kernelspec": {
   "display_name": "Python 3.8.11 ('myMLEnv')",
   "language": "python",
   "name": "python3"
  },
  "language_info": {
   "codemirror_mode": {
    "name": "ipython",
    "version": 3
   },
   "file_extension": ".py",
   "mimetype": "text/x-python",
   "name": "python",
   "nbconvert_exporter": "python",
   "pygments_lexer": "ipython3",
   "version": "3.8.11"
  },
  "vscode": {
   "interpreter": {
    "hash": "418a5ed4ed6d8198b840b61453495c26d507d70d3841dd181a7388aaa4474a5c"
   }
  }
 },
 "nbformat": 4,
 "nbformat_minor": 5
}
