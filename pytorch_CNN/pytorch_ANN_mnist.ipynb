{
 "cells": [
  {
   "cell_type": "code",
   "execution_count": null,
   "id": "c3215dfc",
   "metadata": {},
   "outputs": [],
   "source": [
    "import torch\n",
    "import torch.nn as nn\n",
    "import torch.nn.functional as F\n",
    "\n",
    "import numpy as np\n",
    "import pandas as pd\n",
    "from sklearn.metrics import confusion_matrix\n",
    "import matplotlib.pyplot as plt"
   ]
  },
  {
   "cell_type": "code",
   "execution_count": null,
   "id": "726efe49",
   "metadata": {},
   "outputs": [],
   "source": [
    "from torch.utils.data import DataLoader\n",
    "from torchvision import datasets, transforms"
   ]
  },
  {
   "cell_type": "code",
   "execution_count": null,
   "id": "1689da70",
   "metadata": {},
   "outputs": [],
   "source": []
  },
  {
   "cell_type": "code",
   "execution_count": null,
   "id": "b71174f6",
   "metadata": {},
   "outputs": [],
   "source": [
    "# load MNIST images and transform them to tensor\n",
    "transform = transforms.ToTensor()\n",
    "train_data = datasets.MNIST(root='../data/cnn_files', train=True, download=True, transform=transform)\n",
    "test_data = datasets.MNIST(root='../data/cnn_files', train=False, download=True, transform=transform)"
   ]
  },
  {
   "cell_type": "code",
   "execution_count": null,
   "id": "a19c6217",
   "metadata": {},
   "outputs": [],
   "source": [
    "train_data"
   ]
  },
  {
   "cell_type": "code",
   "execution_count": null,
   "id": "683c76da",
   "metadata": {},
   "outputs": [],
   "source": [
    "test_data"
   ]
  },
  {
   "cell_type": "code",
   "execution_count": null,
   "id": "593d3cba",
   "metadata": {},
   "outputs": [],
   "source": [
    "type(train_data)"
   ]
  },
  {
   "cell_type": "code",
   "execution_count": null,
   "id": "e990caa8",
   "metadata": {},
   "outputs": [],
   "source": [
    "# this is a tuple related to the first image of dataset: first item of turple is the image and second item is the label\n",
    "train_data[0]"
   ]
  },
  {
   "cell_type": "code",
   "execution_count": null,
   "id": "31ba0f68",
   "metadata": {},
   "outputs": [],
   "source": [
    "image, label = train_data[0]"
   ]
  },
  {
   "cell_type": "code",
   "execution_count": null,
   "id": "467200d3",
   "metadata": {},
   "outputs": [],
   "source": [
    "image.shape\n",
    "# the 1 in the shape indicates that the image is greyscale; for RGB the 1 would change to 3"
   ]
  },
  {
   "cell_type": "code",
   "execution_count": null,
   "id": "0ab2bcbf",
   "metadata": {},
   "outputs": [],
   "source": [
    "label"
   ]
  },
  {
   "cell_type": "code",
   "execution_count": null,
   "id": "cd1269f6",
   "metadata": {},
   "outputs": [],
   "source": [
    "plt.imshow(image.reshape((28,28)), cmap='gray')\n",
    "# the reshape is because the imshow method accept 2D matrix\n",
    "# cmap='gray' is added because imshow has a default 'viridis' color-mapping which leads to having not acctual colors"
   ]
  },
  {
   "cell_type": "code",
   "execution_count": null,
   "id": "76df11fb",
   "metadata": {},
   "outputs": [],
   "source": [
    "torch.manual_seed(101)\n",
    "train_loader = DataLoader(train_data, batch_size=100, shuffle=True)\n",
    "test_loader = DataLoader(test_data, batch_size=500, shuffle=False)"
   ]
  },
  {
   "cell_type": "code",
   "execution_count": null,
   "id": "6eba2c06",
   "metadata": {},
   "outputs": [],
   "source": []
  },
  {
   "cell_type": "code",
   "execution_count": null,
   "id": "14cf45b9",
   "metadata": {},
   "outputs": [],
   "source": []
  },
  {
   "cell_type": "code",
   "execution_count": null,
   "id": "3620055d",
   "metadata": {},
   "outputs": [],
   "source": [
    "# let's have a visual sense of the dataset\n",
    "from torchvision.utils import make_grid"
   ]
  },
  {
   "cell_type": "code",
   "execution_count": null,
   "id": "6681de79",
   "metadata": {},
   "outputs": [],
   "source": [
    "for images, labels in train_loader:\n",
    "    break     # in this way we just retrieve the first batch"
   ]
  },
  {
   "cell_type": "code",
   "execution_count": null,
   "id": "638d8938",
   "metadata": {},
   "outputs": [],
   "source": [
    "images.shape"
   ]
  },
  {
   "cell_type": "code",
   "execution_count": null,
   "id": "1c4a31b6",
   "metadata": {},
   "outputs": [],
   "source": [
    "labels.shape"
   ]
  },
  {
   "cell_type": "code",
   "execution_count": null,
   "id": "02d78581",
   "metadata": {},
   "outputs": [],
   "source": [
    "# print first 12 labels\n",
    "labels_to_print = '          '.join([str(tensor_label.item()) for tensor_label in labels[:12]])\n",
    "print(labels_to_print)\n",
    "\n",
    "# print first 12 images\n",
    "im = make_grid(images[:12], nrow=12)\n",
    "plt.figure(figsize=(18,4))\n",
    "# because of default structure of imshow(), we have to transpose the images from channel-width-height to width-height-channel\n",
    "plt.imshow(np.transpose(im.numpy(), (1, 2, 0)))"
   ]
  },
  {
   "cell_type": "code",
   "execution_count": null,
   "id": "9ef4c2ec",
   "metadata": {},
   "outputs": [],
   "source": []
  },
  {
   "cell_type": "code",
   "execution_count": null,
   "id": "b81ee9bc",
   "metadata": {},
   "outputs": [],
   "source": []
  },
  {
   "cell_type": "code",
   "execution_count": null,
   "id": "4ec29b5f",
   "metadata": {},
   "outputs": [],
   "source": [
    "class MultilayerPerceptron(nn.Module):\n",
    "    def __init__(self, in_size=28*28, out_size=10, layers=[120, 84]):\n",
    "        super().__init__()\n",
    "        self.fc1 = nn.Linear(in_size, layers[0])\n",
    "        self.fc2 = nn.Linear(layers[0], layers[1])\n",
    "        self.fc3 = nn.Linear(layers[1], out_size)\n",
    "        \n",
    "    def forward(self, X):\n",
    "        X = F.relu(self.fc1(X))\n",
    "        X = F.relu(self.fc2(X))\n",
    "        X = F.log_softmax(self.fc3(X), dim=1)\n",
    "        return X"
   ]
  },
  {
   "cell_type": "code",
   "execution_count": null,
   "id": "6ab54e8a",
   "metadata": {},
   "outputs": [],
   "source": [
    "torch.manual_seed(101)\n",
    "model = MultilayerPerceptron()\n",
    "model"
   ]
  },
  {
   "cell_type": "code",
   "execution_count": null,
   "id": "d1c6d958",
   "metadata": {},
   "outputs": [],
   "source": [
    "for param in model.parameters():\n",
    "    print(param.numel())"
   ]
  },
  {
   "cell_type": "code",
   "execution_count": null,
   "id": "bc701857",
   "metadata": {},
   "outputs": [],
   "source": [
    "criterion = nn.CrossEntropyLoss()\n",
    "optimizer = torch.optim.Adam(model.parameters(), lr=0.001)"
   ]
  },
  {
   "cell_type": "code",
   "execution_count": null,
   "id": "54fd8dcf",
   "metadata": {},
   "outputs": [],
   "source": [
    "import time\n",
    "start_time = time.time()\n",
    "\n",
    "epochs = 10\n",
    "train_loss_list = []\n",
    "test_loss_list = []\n",
    "train_correct_list = []\n",
    "test_correct_list = []\n",
    "\n",
    "for i in range(epochs):\n",
    "    train_corrects = 0\n",
    "    test_corrects = 0\n",
    "    \n",
    "    for batch_num, (X_train, y_train) in enumerate(train_loader):\n",
    "        batch_num += 1              # because it starts from 0\n",
    "        \n",
    "        y_pred = model.forward(X_train.view(100, -1))      # because should reshape [100, 1, 28, 28] to [100, 784]\n",
    "        loss = criterion(y_pred, y_train)\n",
    "        \n",
    "        predicted = torch.max(y_pred.data,dim=1)[1]\n",
    "        batch_corrects = (predicted == y_train).sum()\n",
    "        train_corrects += batch_corrects\n",
    "        \n",
    "        optimizer.zero_grad()\n",
    "        loss.backward()\n",
    "        optimizer.step()\n",
    "        \n",
    "        if batch_num % 200 == 0:\n",
    "            accuracy_till_here = (train_corrects.item()/(batch_num * 100)) * 100\n",
    "            print(f'Epoch:{i}, batch:{batch_num}, loss:{loss.item()}, accuracy:{accuracy_till_here}')\n",
    "        \n",
    "    train_loss_list.append(loss)\n",
    "    train_correct_list.append(train_corrects)\n",
    "    \n",
    "    \n",
    "    with torch.no_grad():\n",
    "        for batch_num, (X_test, y_test) in enumerate(test_loader):\n",
    "            batch_num += 1\n",
    "        \n",
    "            y_eval = model.forward(X_test.view(500, -1))      # because should reshape [500, 1, 28, 28] to [500, 784]\n",
    "\n",
    "            predicted = torch.max(y_eval.data,dim=1)[1]\n",
    "            batch_corrects = (predicted == y_test).sum()\n",
    "            test_corrects += batch_corrects\n",
    "        \n",
    "        loss = criterion(y_eval, y_test)\n",
    "        test_loss_list.append(loss)\n",
    "        test_correct_list.append(test_corrects)\n",
    "        \n",
    "    \n",
    "total_time = time.time() - start_time\n",
    "print(f'Duration: {total_time/60} mins')      \n",
    "        "
   ]
  },
  {
   "cell_type": "code",
   "execution_count": null,
   "id": "e5919400",
   "metadata": {},
   "outputs": [],
   "source": [
    "plt.plot(train_loss_list, label='Training loss')\n",
    "plt.plot(test_loss_list, label='Validation loss')\n",
    "plt.legend()"
   ]
  },
  {
   "cell_type": "code",
   "execution_count": null,
   "id": "fed11fb7",
   "metadata": {},
   "outputs": [],
   "source": [
    "train_acc_per_epoch = [(t/60000)*100 for t in train_correct_list]\n",
    "test_acc_per_epoch = [(t/10000)*100 for t in test_correct_list]"
   ]
  },
  {
   "cell_type": "code",
   "execution_count": null,
   "id": "d415d56f",
   "metadata": {},
   "outputs": [],
   "source": [
    "plt.plot(train_acc_per_epoch, label='Training acc')\n",
    "plt.plot(test_acc_per_epoch, label='Validation acc')\n",
    "plt.legend()"
   ]
  },
  {
   "cell_type": "code",
   "execution_count": null,
   "id": "e71ea16e",
   "metadata": {},
   "outputs": [],
   "source": [
    "# accuracy on the whole test data\n",
    "test_load_all = DataLoader(test_data, batch_size=10000, shuffle=False)\n",
    "\n",
    "with torch.no_grad():\n",
    "    corrects = 0\n",
    "    for X_test, y_test in test_load_all:\n",
    "        y_eval = model.forward(X_test.view(len(X_test), -1))\n",
    "        predicted = torch.max(y_eval.data,dim=1)[1]\n",
    "        corrects = (predicted == y_test).sum()\n",
    "100*corrects.item()/len(X_test)"
   ]
  },
  {
   "cell_type": "code",
   "execution_count": null,
   "id": "66b7aab3",
   "metadata": {},
   "outputs": [],
   "source": [
    "confusion_matrix(predicted, y_test)"
   ]
  },
  {
   "cell_type": "code",
   "execution_count": null,
   "id": "fd7e3607",
   "metadata": {},
   "outputs": [],
   "source": []
  },
  {
   "cell_type": "code",
   "execution_count": null,
   "id": "c800e625",
   "metadata": {},
   "outputs": [],
   "source": []
  },
  {
   "cell_type": "code",
   "execution_count": null,
   "id": "06c6a84e",
   "metadata": {},
   "outputs": [],
   "source": []
  },
  {
   "cell_type": "code",
   "execution_count": null,
   "id": "ab8a47c1",
   "metadata": {},
   "outputs": [],
   "source": []
  },
  {
   "cell_type": "code",
   "execution_count": null,
   "id": "c1758101",
   "metadata": {},
   "outputs": [],
   "source": []
  }
 ],
 "metadata": {
  "kernelspec": {
   "display_name": "Python 3.8.11 ('myMLEnv')",
   "language": "python",
   "name": "python3"
  },
  "language_info": {
   "codemirror_mode": {
    "name": "ipython",
    "version": 3
   },
   "file_extension": ".py",
   "mimetype": "text/x-python",
   "name": "python",
   "nbconvert_exporter": "python",
   "pygments_lexer": "ipython3",
   "version": "3.8.11"
  },
  "vscode": {
   "interpreter": {
    "hash": "418a5ed4ed6d8198b840b61453495c26d507d70d3841dd181a7388aaa4474a5c"
   }
  }
 },
 "nbformat": 4,
 "nbformat_minor": 5
}
