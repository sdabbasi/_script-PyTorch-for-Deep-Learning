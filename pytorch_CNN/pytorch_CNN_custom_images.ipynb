{
 "cells": [
  {
   "cell_type": "code",
   "execution_count": null,
   "id": "a4fad00b",
   "metadata": {},
   "outputs": [],
   "source": [
    "import torch\n",
    "import torch.nn as nn\n",
    "import torch.nn.functional as F\n",
    "from torch.utils.data import DataLoader\n",
    "from torchvision import datasets, transforms\n",
    "from torchvision.utils import make_grid\n",
    "\n",
    "import os\n",
    "import pandas as pd\n",
    "import numpy as np\n",
    "import matplotlib.pyplot as plt\n",
    "\n",
    "# ignore harmless warnings\n",
    "import warnings\n",
    "warnings.filterwarnings('ignore')"
   ]
  },
  {
   "cell_type": "code",
   "execution_count": null,
   "id": "1a945c7f",
   "metadata": {},
   "outputs": [],
   "source": [
    "train_transform = transforms.Compose([\n",
    "    transforms.RandomRotation(degrees=10),\n",
    "    transforms.RandomHorizontalFlip(),\n",
    "    transforms.Resize(224),\n",
    "    transforms.CenterCrop(224),\n",
    "    transforms.ToTensor(),\n",
    "    transforms.Normalize(mean=[0.485, 0.456, 0.406], std=[0.229, 0.224, 0.225])\n",
    "])"
   ]
  },
  {
   "cell_type": "code",
   "execution_count": null,
   "id": "146699f9",
   "metadata": {},
   "outputs": [],
   "source": [
    "test_transform = transforms.Compose([\n",
    "    transforms.Resize(224),\n",
    "    transforms.CenterCrop(224),\n",
    "    transforms.ToTensor(),\n",
    "    transforms.Normalize(mean=[0.485, 0.456, 0.406], std=[0.229, 0.224, 0.225])\n",
    "])"
   ]
  },
  {
   "cell_type": "code",
   "execution_count": null,
   "id": "03d2f54f",
   "metadata": {},
   "outputs": [],
   "source": [
    "root = '../data/cnn_files/CATS_DOGS/'\n",
    "train_data = datasets.ImageFolder(os.path.join(root, 'train'), transform=train_transform)\n",
    "test_data = datasets.ImageFolder(os.path.join(root, 'test'), transform=test_transform)\n",
    "\n",
    "torch.manual_seed(42)\n",
    "train_loader = DataLoader(train_data, batch_size=10, shuffle=True)\n",
    "test_loader = DataLoader(test_data, batch_size=10, shuffle=False)"
   ]
  },
  {
   "cell_type": "code",
   "execution_count": null,
   "id": "76e21e76",
   "metadata": {},
   "outputs": [],
   "source": [
    "class_names = train_data.classes\n",
    "class_names"
   ]
  },
  {
   "cell_type": "code",
   "execution_count": null,
   "id": "869794a0",
   "metadata": {},
   "outputs": [],
   "source": [
    "len(train_data)"
   ]
  },
  {
   "cell_type": "code",
   "execution_count": null,
   "id": "743c99db",
   "metadata": {},
   "outputs": [],
   "source": [
    "len(test_data)"
   ]
  },
  {
   "cell_type": "code",
   "execution_count": null,
   "id": "22463d47",
   "metadata": {},
   "outputs": [],
   "source": [
    "for images, labels in train_loader:\n",
    "    break\n",
    "print(images.shape)\n",
    "print(labels.shape)"
   ]
  },
  {
   "cell_type": "code",
   "execution_count": null,
   "id": "9abb723a",
   "metadata": {},
   "outputs": [],
   "source": [
    "print(labels[:5])\n",
    "print(labels[5:])\n",
    "im = make_grid(images, nrow=5)\n",
    "\n",
    "inv_normalize = transforms.Normalize(\n",
    "                    mean = [-0.485/0.229, -0.456/0.224, -0.406/0.225],\n",
    "                    std = [1/0.229, 1/0.224, 1/0.225])\n",
    "im_inv = inv_normalize(im)\n",
    "\n",
    "plt.figure(figsize=(12, 4))\n",
    "plt.imshow(np.transpose(im_inv.numpy(),(1,2,0)))"
   ]
  },
  {
   "cell_type": "code",
   "execution_count": null,
   "id": "0679b9f5",
   "metadata": {},
   "outputs": [],
   "source": [
    "class ConvNet(nn.Module):\n",
    "    def __init__(self):\n",
    "        super().__init__()\n",
    "        self.conv1 = nn.Conv2d(in_channels=3, out_channels=6, kernel_size=3, stride=1, padding='same')\n",
    "        self.conv2 = nn.Conv2d(in_channels=6, out_channels=16, kernel_size=3, stride=1, padding='same')\n",
    "        self.fc1 = nn.Linear(in_features=56*56*16, out_features=120)\n",
    "        self.fc2 = nn.Linear(in_features=120, out_features=84)\n",
    "        self.fc3 = nn.Linear(in_features=84, out_features=2)\n",
    "        \n",
    "    def forward(self, X):\n",
    "        X = F.relu(self.conv1(X))\n",
    "        X = F.max_pool2d(X, kernel_size=2, stride=2)\n",
    "        X = F.relu(self.conv2(X))\n",
    "        X = F.max_pool2d(X, kernel_size=2, stride=2)\n",
    "        X = X.view(-1, 56*56*16)\n",
    "        X = F.relu(self.fc1(X))\n",
    "        X = F.relu(self.fc2(X))\n",
    "        X = F.log_softmax(self.fc3(X), dim=1)\n",
    "        \n",
    "        return X"
   ]
  },
  {
   "cell_type": "code",
   "execution_count": null,
   "id": "9b02f925",
   "metadata": {},
   "outputs": [],
   "source": [
    "torch.manual_seed(101)\n",
    "model = ConvNet()\n",
    "criterion = nn.CrossEntropyLoss()\n",
    "optimizer = torch.optim.Adam(model.parameters(), lr=0.001)\n",
    "model"
   ]
  },
  {
   "cell_type": "code",
   "execution_count": null,
   "id": "3a313d53",
   "metadata": {},
   "outputs": [],
   "source": [
    "for param in model.parameters():\n",
    "    print(param.numel())"
   ]
  },
  {
   "cell_type": "code",
   "execution_count": null,
   "id": "56d5daf9",
   "metadata": {},
   "outputs": [],
   "source": [
    "import time\n",
    "start_time = time.time()\n",
    "\n",
    "epoch = 3\n",
    "train_losses_list = []\n",
    "test_losses_list = []\n",
    "train_corrects_list = []\n",
    "test_corrects_list = []\n",
    "\n",
    "for i in range(epoch):\n",
    "    train_epoch_corrects = 0\n",
    "    test_epoch_corrects = 0\n",
    "    \n",
    "    for batch_num, (X_train, y_train) in enumerate(train_loader):\n",
    "        batch_num += 1\n",
    "        \n",
    "        y_pred = model.forward(X_train)\n",
    "        loss = criterion(y_pred, y_train)\n",
    "        \n",
    "        predicted = torch.max(y_pred.data, dim=1)[1]\n",
    "        batch_corrects = (predicted == y_train).sum()\n",
    "        train_epoch_corrects += batch_corrects\n",
    "        \n",
    "        optimizer.zero_grad()\n",
    "        loss.backward()\n",
    "        optimizer.step()\n",
    "        \n",
    "        if batch_num % 100 == 0:\n",
    "            acc = (train_epoch_corrects / (batch_num*10))*100\n",
    "            print(f'epoch:{i}, batch:{batch_num}, loss:{loss}, acc:{acc}')\n",
    "        \n",
    "    train_losses_list.append(loss)\n",
    "    train_corrects_list.append(train_epoch_corrects)\n",
    "    \n",
    "    with torch.no_grad():\n",
    "        for batch_num, (X_test, y_test) in enumerate(test_loader):\n",
    "            batch_num += 1\n",
    "            \n",
    "            y_eval = model.forward(X_test)\n",
    "\n",
    "            predicted = torch.max(y_eval.data, dim=1)[1]\n",
    "            batch_corrects = (predicted == y_test).sum()\n",
    "            test_epoch_corrects += batch_corrects\n",
    "            \n",
    "        loss = criterion(y_eval, y_test)\n",
    "        test_losses_list.append(loss)\n",
    "        test_corrects_list.append(test_epoch_corrects)\n",
    "\n",
    "duration = time.time() - start_time\n",
    "print(f'Total time is {duration/60} mins')"
   ]
  },
  {
   "cell_type": "code",
   "execution_count": null,
   "id": "b8f24b34",
   "metadata": {},
   "outputs": [],
   "source": [
    "torch.save(model.state_dict(), '../models/my_cat_dog_cnn_1.pt')"
   ]
  },
  {
   "cell_type": "code",
   "execution_count": null,
   "id": "e606a88e",
   "metadata": {},
   "outputs": [],
   "source": [
    "plt.plot(train_losses_list, label='train loss')\n",
    "plt.plot(test_losses_list, label='validation loss')\n",
    "plt.title('loss at epoch')\n",
    "plt.legend()"
   ]
  },
  {
   "cell_type": "code",
   "execution_count": null,
   "id": "10a1fd0d",
   "metadata": {},
   "outputs": [],
   "source": [
    "plt.plot([(t.item()/18743)*100 for t in train_corrects_list], label='train accuracy')\n",
    "plt.plot([(t.item()/6251)*100 for t in test_corrects_list], label='validation accuracy')\n",
    "plt.title('Accuracy at the end of each epoch')\n",
    "plt.legend()"
   ]
  },
  {
   "cell_type": "code",
   "execution_count": null,
   "id": "8fcd7ce7",
   "metadata": {},
   "outputs": [],
   "source": [
    "train_corrects_list"
   ]
  },
  {
   "cell_type": "code",
   "execution_count": null,
   "id": "7409a146",
   "metadata": {},
   "outputs": [],
   "source": [
    "test_corrects_list"
   ]
  },
  {
   "cell_type": "code",
   "execution_count": null,
   "id": "28ad4681",
   "metadata": {},
   "outputs": [],
   "source": []
  },
  {
   "cell_type": "code",
   "execution_count": null,
   "id": "13f1c377",
   "metadata": {},
   "outputs": [],
   "source": []
  }
 ],
 "metadata": {
  "kernelspec": {
   "display_name": "Python 3.8.11 ('myMLEnv')",
   "language": "python",
   "name": "python3"
  },
  "language_info": {
   "codemirror_mode": {
    "name": "ipython",
    "version": 3
   },
   "file_extension": ".py",
   "mimetype": "text/x-python",
   "name": "python",
   "nbconvert_exporter": "python",
   "pygments_lexer": "ipython3",
   "version": "3.8.11"
  },
  "vscode": {
   "interpreter": {
    "hash": "418a5ed4ed6d8198b840b61453495c26d507d70d3841dd181a7388aaa4474a5c"
   }
  }
 },
 "nbformat": 4,
 "nbformat_minor": 5
}
