{
 "cells": [
  {
   "cell_type": "code",
   "execution_count": null,
   "id": "14e4a1a1",
   "metadata": {},
   "outputs": [],
   "source": [
    "import torch\n",
    "import torch.nn as nn\n",
    "import torch.nn.functional as F\n",
    "from torch.utils.data import DataLoader\n",
    "from torchvision import datasets, transforms, models\n",
    "from torchvision.utils import make_grid\n",
    "\n",
    "import os\n",
    "import pandas as pd\n",
    "import numpy as np\n",
    "import matplotlib.pyplot as plt\n",
    "\n",
    "# ignore harmless warnings\n",
    "import warnings\n",
    "warnings.filterwarnings('ignore')"
   ]
  },
  {
   "cell_type": "code",
   "execution_count": null,
   "id": "c2d269cb",
   "metadata": {},
   "outputs": [],
   "source": [
    "train_transform = transforms.Compose([\n",
    "    transforms.RandomRotation(degrees=10),\n",
    "    transforms.RandomHorizontalFlip(),\n",
    "    transforms.Resize(224),\n",
    "    transforms.CenterCrop(224),\n",
    "    transforms.ToTensor(),\n",
    "    transforms.Normalize(mean=[0.485, 0.456, 0.406], std=[0.229, 0.224, 0.225])\n",
    "])\n",
    "\n",
    "test_transform = transforms.Compose([\n",
    "    transforms.Resize(224),\n",
    "    transforms.CenterCrop(224),\n",
    "    transforms.ToTensor(),\n",
    "    transforms.Normalize(mean=[0.485, 0.456, 0.406], std=[0.229, 0.224, 0.225])\n",
    "])"
   ]
  },
  {
   "cell_type": "code",
   "execution_count": null,
   "id": "13f05c45",
   "metadata": {},
   "outputs": [],
   "source": [
    "root = '../data/cnn_files/CATS_DOGS/'\n",
    "train_data = datasets.ImageFolder(os.path.join(root, 'train'), transform=train_transform)\n",
    "test_data = datasets.ImageFolder(os.path.join(root, 'test'), transform=test_transform)\n",
    "\n",
    "torch.manual_seed(42)\n",
    "train_loader = DataLoader(train_data, batch_size=10, shuffle=True)\n",
    "test_loader = DataLoader(test_data, batch_size=10, shuffle=False)"
   ]
  },
  {
   "cell_type": "code",
   "execution_count": null,
   "id": "cc70ae14",
   "metadata": {},
   "outputs": [],
   "source": [
    "AlexNet_model = models.alexnet(pretrained=True)\n",
    "AlexNet_model"
   ]
  },
  {
   "cell_type": "code",
   "execution_count": null,
   "id": "dd140cfc",
   "metadata": {},
   "outputs": [],
   "source": [
    "for param in AlexNet_model.parameters():\n",
    "    param.requires_grad = False"
   ]
  },
  {
   "cell_type": "code",
   "execution_count": null,
   "id": "abcf491a",
   "metadata": {},
   "outputs": [],
   "source": [
    "torch.manual_seed(42)\n",
    "\n",
    "AlexNet_model.classifier = nn.Sequential(nn.Linear(in_features=9216, out_features=1024),\n",
    "                                        nn.ReLU(),\n",
    "                                        nn.Dropout(0.5),\n",
    "                                        nn.Linear(in_features=1024, out_features=2),\n",
    "                                        nn.LogSoftmax(dim=1))\n",
    "AlexNet_model"
   ]
  },
  {
   "cell_type": "code",
   "execution_count": null,
   "id": "de0e2645",
   "metadata": {},
   "outputs": [],
   "source": [
    "for param in AlexNet_model.parameters():\n",
    "    print(param.numel())"
   ]
  },
  {
   "cell_type": "code",
   "execution_count": null,
   "id": "65c1a06c",
   "metadata": {},
   "outputs": [],
   "source": [
    "criterion = nn.CrossEntropyLoss()\n",
    "optimizer = torch.optim.Adam(AlexNet_model.classifier.parameters(), lr=0.001)"
   ]
  },
  {
   "cell_type": "code",
   "execution_count": null,
   "id": "c2e09eac",
   "metadata": {},
   "outputs": [],
   "source": [
    "import time\n",
    "start_time = time.time()\n",
    "\n",
    "epoch = 1\n",
    "train_losses_list = []\n",
    "test_losses_list = []\n",
    "train_corrects_list = []\n",
    "test_corrects_list = []\n",
    "\n",
    "for i in range(epoch):\n",
    "    train_epoch_corrects = 0\n",
    "    test_epoch_corrects = 0\n",
    "    \n",
    "    for batch_num, (X_train, y_train) in enumerate(train_loader):\n",
    "        batch_num += 1\n",
    "        \n",
    "        y_pred = AlexNet_model.forward(X_train)\n",
    "        loss = criterion(y_pred, y_train)\n",
    "        \n",
    "        predicted = torch.max(y_pred.data, dim=1)[1]\n",
    "        batch_corrects = (predicted == y_train).sum()\n",
    "        train_epoch_corrects += batch_corrects\n",
    "        \n",
    "        optimizer.zero_grad()\n",
    "        loss.backward()\n",
    "        optimizer.step()\n",
    "        \n",
    "        if batch_num % 100 == 0:\n",
    "            acc = (train_epoch_corrects / (batch_num*10))*100\n",
    "            print(f'epoch:{i}, batch:{batch_num}, loss:{loss}, acc:{acc}')\n",
    "        \n",
    "    train_losses_list.append(loss)\n",
    "    train_corrects_list.append(train_epoch_corrects)\n",
    "    \n",
    "    with torch.no_grad():\n",
    "        for batch_num, (X_test, y_test) in enumerate(test_loader):\n",
    "            batch_num += 1\n",
    "            \n",
    "            y_eval = AlexNet_model.forward(X_test)\n",
    "\n",
    "            predicted = torch.max(y_eval.data, dim=1)[1]\n",
    "            batch_corrects = (predicted == y_test).sum()\n",
    "            test_epoch_corrects += batch_corrects\n",
    "            \n",
    "        loss = criterion(y_eval, y_test)\n",
    "        test_losses_list.append(loss)\n",
    "        test_corrects_list.append(test_epoch_corrects)\n",
    "\n",
    "duration = time.time() - start_time\n",
    "print(f'Total time is {duration/60} mins')"
   ]
  },
  {
   "cell_type": "code",
   "execution_count": null,
   "id": "1d0a47e0",
   "metadata": {},
   "outputs": [],
   "source": [
    "torch.save(AlexNet_model.state_dict(), '../models/my_cat_dog_Alexnet_1.pt')"
   ]
  },
  {
   "cell_type": "code",
   "execution_count": null,
   "id": "a7e286f3",
   "metadata": {},
   "outputs": [],
   "source": []
  }
 ],
 "metadata": {
  "kernelspec": {
   "display_name": "Python 3.8.11 ('myMLEnv')",
   "language": "python",
   "name": "python3"
  },
  "language_info": {
   "codemirror_mode": {
    "name": "ipython",
    "version": 3
   },
   "file_extension": ".py",
   "mimetype": "text/x-python",
   "name": "python",
   "nbconvert_exporter": "python",
   "pygments_lexer": "ipython3",
   "version": "3.8.11"
  },
  "vscode": {
   "interpreter": {
    "hash": "418a5ed4ed6d8198b840b61453495c26d507d70d3841dd181a7388aaa4474a5c"
   }
  }
 },
 "nbformat": 4,
 "nbformat_minor": 5
}
