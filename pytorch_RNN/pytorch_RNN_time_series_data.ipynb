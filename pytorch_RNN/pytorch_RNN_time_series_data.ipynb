{
 "cells": [
  {
   "cell_type": "code",
   "execution_count": null,
   "id": "17921285",
   "metadata": {},
   "outputs": [],
   "source": [
    "import torch\n",
    "import torch.nn as nn\n",
    "\n",
    "import numpy as np\n",
    "import pandas as pd\n",
    "import matplotlib.pyplot as plt\n",
    "\n",
    "# this is for plotting datetime values in matplotlib\n",
    "from pandas.plotting import register_matplotlib_converters\n",
    "register_matplotlib_converters()"
   ]
  },
  {
   "cell_type": "code",
   "execution_count": null,
   "id": "5c3f280a",
   "metadata": {},
   "outputs": [],
   "source": [
    "df = pd.read_csv('../data/rnn_files/TimeSeriesData/Alcohol_Sales.csv', index_col=0, parse_dates=True)\n",
    "df.head()"
   ]
  },
  {
   "cell_type": "code",
   "execution_count": null,
   "id": "9c7f71e1",
   "metadata": {},
   "outputs": [],
   "source": [
    "df.columns"
   ]
  },
  {
   "cell_type": "code",
   "execution_count": null,
   "id": "6787e466",
   "metadata": {},
   "outputs": [],
   "source": [
    "df.dropna()"
   ]
  },
  {
   "cell_type": "code",
   "execution_count": null,
   "id": "f6135b9f",
   "metadata": {},
   "outputs": [],
   "source": [
    "df.plot(figsize=(16,4))"
   ]
  },
  {
   "cell_type": "code",
   "execution_count": null,
   "id": "f34437a7",
   "metadata": {},
   "outputs": [],
   "source": [
    "y = df['S4248SM144NCEN'].values.astype(float)\n",
    "y"
   ]
  },
  {
   "cell_type": "code",
   "execution_count": null,
   "id": "7f969f3a",
   "metadata": {},
   "outputs": [],
   "source": [
    "test_size = 12"
   ]
  },
  {
   "cell_type": "code",
   "execution_count": null,
   "id": "7e6f3ca3",
   "metadata": {},
   "outputs": [],
   "source": [
    "train_set = y[:-test_size]\n",
    "test_set = y[-test_size:]"
   ]
  },
  {
   "cell_type": "code",
   "execution_count": null,
   "id": "44bc5f46",
   "metadata": {},
   "outputs": [],
   "source": []
  },
  {
   "cell_type": "code",
   "execution_count": null,
   "id": "8ed3e6fc",
   "metadata": {},
   "outputs": [],
   "source": [
    "# regarding the plot, it is better to normalize the data before learning process\n",
    "from sklearn.preprocessing import MinMaxScaler\n",
    "scaler = MinMaxScaler(feature_range=(-1,1))\n",
    "train_norm = scaler.fit_transform(train_set.reshape(-1,1))\n",
    "train_norm"
   ]
  },
  {
   "cell_type": "code",
   "execution_count": null,
   "id": "c877ca04",
   "metadata": {},
   "outputs": [],
   "source": []
  },
  {
   "cell_type": "code",
   "execution_count": null,
   "id": "871cb85d",
   "metadata": {},
   "outputs": [],
   "source": [
    "train_norm = torch.FloatTensor(train_norm).view(-1)"
   ]
  },
  {
   "cell_type": "code",
   "execution_count": null,
   "id": "5386fa81",
   "metadata": {},
   "outputs": [],
   "source": [
    "window_size = 12"
   ]
  },
  {
   "cell_type": "code",
   "execution_count": null,
   "id": "5f356862",
   "metadata": {},
   "outputs": [],
   "source": [
    "def prepare_seq_data(data, window_size):\n",
    "    out = []\n",
    "    for i in range(len(data)-window_size):\n",
    "        window = data[i:i+window_size]\n",
    "        label = data[i+window_size:i+window_size+1]     #this form is extendable by adding more than 1 to the window size\n",
    "        out.append((window,label))\n",
    "    return out"
   ]
  },
  {
   "cell_type": "code",
   "execution_count": null,
   "id": "8728bf6a",
   "metadata": {},
   "outputs": [],
   "source": [
    "train_data = prepare_seq_data(train_norm,window_size)\n",
    "print(len(train_data))\n",
    "print(train_data[0])"
   ]
  },
  {
   "cell_type": "code",
   "execution_count": null,
   "id": "a6de5e10",
   "metadata": {},
   "outputs": [],
   "source": []
  },
  {
   "cell_type": "code",
   "execution_count": null,
   "id": "0d4d6124",
   "metadata": {},
   "outputs": [],
   "source": [
    "class LSTMNet(nn.Module):\n",
    "    def __init__(self, input_size=1, hidden_size=100, out_size=1):\n",
    "        super().__init__()\n",
    "        self.hidden_size = hidden_size\n",
    "        \n",
    "        # Add lstm layer\n",
    "        self.lstm = nn.LSTM(input_size, hidden_size)\n",
    "        \n",
    "        # Add fully_connected layer\n",
    "        self.linear = nn.Linear(hidden_size, out_size)\n",
    "        \n",
    "        # placeholder for hidden-state h and cell-state c\n",
    "        self.hidden_state_cell_state = (torch.zeros(1,1,hidden_size), torch.zeros(1,1,hidden_size))\n",
    "        \n",
    "    def forward(self, data_seq):\n",
    "        lstm_out, self.hidden_state_cell_state = self.lstm(data_seq.view(len(data_seq),1,-1), self.hidden_state_cell_state)\n",
    "        pred = self.linear(lstm_out.view(len(data_seq),-1)[-1])\n",
    "        return pred"
   ]
  },
  {
   "cell_type": "code",
   "execution_count": null,
   "id": "6a2e3183",
   "metadata": {},
   "outputs": [],
   "source": [
    "torch.manual_seed(101)\n",
    "model = LSTMNet()\n",
    "criterion = nn.MSELoss()\n",
    "optimizer = torch.optim.Adam(model.parameters(), lr=0.001)\n",
    "model"
   ]
  },
  {
   "cell_type": "code",
   "execution_count": null,
   "id": "b084a56d",
   "metadata": {},
   "outputs": [],
   "source": [
    "import time\n",
    "start_time = time.time()\n",
    "epochs = 100\n",
    "\n",
    "for i in range(epochs):\n",
    "    for data_seq, y_train in train_data:\n",
    "        optimizer.zero_grad()\n",
    "        model.hidden_state_cell_state = (torch.zeros(1,1,model.hidden_size), torch.zeros(1,1,model.hidden_size))\n",
    "\n",
    "        y_pred = model(data_seq)\n",
    "        \n",
    "        loss = criterion(y_pred, y_train)\n",
    "        loss.backward()\n",
    "        optimizer.step()\n",
    "        \n",
    "    print(f'Epochs {i} loss:{loss}')\n",
    "\n",
    "duration = time.time() - start_time\n",
    "print(f'training time: {duration/60} mins')"
   ]
  },
  {
   "cell_type": "code",
   "execution_count": null,
   "id": "346970a9",
   "metadata": {},
   "outputs": [],
   "source": [
    "future = 12\n",
    "preds = train_norm[-window_size:].tolist()\n",
    "\n",
    "model.eval()\n",
    "for i in range(future):\n",
    "    seq = torch.FloatTensor(preds[-window_size:])\n",
    "    with torch.no_grad():\n",
    "        model.hidden_state_cell_state = (torch.zeros(1,1,model.hidden_size), torch.zeros(1,1,model.hidden_size))\n",
    "        preds.append(model.forward(seq).item())"
   ]
  },
  {
   "cell_type": "code",
   "execution_count": null,
   "id": "13c03068",
   "metadata": {},
   "outputs": [],
   "source": []
  },
  {
   "cell_type": "code",
   "execution_count": null,
   "id": "5983d4a3",
   "metadata": {},
   "outputs": [],
   "source": [
    "# let's plot the output\n",
    "preds[-window_size:]"
   ]
  },
  {
   "cell_type": "code",
   "execution_count": null,
   "id": "b0f51b3d",
   "metadata": {},
   "outputs": [],
   "source": [
    "# have to inverse the normalization process on the data:\n",
    "true_predictions = scaler.inverse_transform(np.array(preds[-window_size:]).reshape(-1,1))\n",
    "true_predictions"
   ]
  },
  {
   "cell_type": "code",
   "execution_count": null,
   "id": "6d06d810",
   "metadata": {},
   "outputs": [],
   "source": [
    "df['S4248SM144NCEN'][-12:]"
   ]
  },
  {
   "cell_type": "code",
   "execution_count": null,
   "id": "fa237f36",
   "metadata": {},
   "outputs": [],
   "source": [
    "x = np.arange('2018-02-01', '2019-02-01', dtype='datetime64[M]')\n",
    "x"
   ]
  },
  {
   "cell_type": "code",
   "execution_count": null,
   "id": "7e1413c6",
   "metadata": {},
   "outputs": [],
   "source": [
    "df.index"
   ]
  },
  {
   "cell_type": "code",
   "execution_count": null,
   "id": "5f841812",
   "metadata": {},
   "outputs": [],
   "source": [
    "plt.figure(figsize=(16,4))\n",
    "plt.title('Beer, Wine, and Alcohol Sales')\n",
    "plt.ylabel('Sales')\n",
    "plt.grid(True)\n",
    "plt.autoscale(axis='x', tight=True)\n",
    "plt.plot(df['S4248SM144NCEN'])\n",
    "plt.plot(x, true_predictions)\n",
    "plt.show()"
   ]
  },
  {
   "cell_type": "code",
   "execution_count": null,
   "id": "7e6e3f89",
   "metadata": {},
   "outputs": [],
   "source": [
    "plt.figure(figsize=(16,4))\n",
    "plt.title('Beer, Wine, and Alcohol Sales')\n",
    "plt.ylabel('Sales')\n",
    "plt.grid(True)\n",
    "plt.autoscale(axis='x', tight=True)\n",
    "plt.plot(df['S4248SM144NCEN']['2017-01-01':])\n",
    "plt.plot(x, true_predictions)\n",
    "plt.show()"
   ]
  },
  {
   "cell_type": "code",
   "execution_count": null,
   "id": "e4e6abe9",
   "metadata": {},
   "outputs": [],
   "source": []
  },
  {
   "cell_type": "code",
   "execution_count": null,
   "id": "478a1908",
   "metadata": {},
   "outputs": [],
   "source": [
    "# NOW WE TRAIN THE MODEL ON ALL THE DATA TO USE IN ORDER TO FORCAST THE FUTURE\n",
    "epochs = 100\n",
    "\n",
    "# set the model back to training mode\n",
    "model.train()\n",
    "\n",
    "# feature scaling on all avaiable data\n",
    "y_norm = scaler.fit_transform(y.reshape(-1,1))\n",
    "y_norm = torch.FloatTensor(y_norm).view(-1)\n",
    "all_data = prepare_seq_data(y_norm, window_size)\n",
    "\n",
    "import time\n",
    "start_time = time.time()\n",
    "\n",
    "for i in range(epochs):\n",
    "    for data_seq, y_train in all_data:\n",
    "        optimizer.zero_grad()\n",
    "        model.hidden_state_cell_state = (torch.zeros(1,1,model.hidden_size), torch.zeros(1,1,model.hidden_size))\n",
    "\n",
    "        y_pred = model(data_seq)\n",
    "        \n",
    "        loss = criterion(y_pred, y_train)\n",
    "        loss.backward()\n",
    "        optimizer.step()\n",
    "        \n",
    "    print(f'Epochs {i} loss:{loss}')\n",
    "\n",
    "duration = time.time() - start_time\n",
    "print(f'training time: {duration/60} mins')"
   ]
  },
  {
   "cell_type": "code",
   "execution_count": null,
   "id": "99fdcd72",
   "metadata": {},
   "outputs": [],
   "source": [
    "future = 12\n",
    "preds = train_norm[-window_size:].tolist()\n",
    "\n",
    "model.eval()\n",
    "for i in range(future):\n",
    "    seq = torch.FloatTensor(preds[-window_size:])\n",
    "    with torch.no_grad():\n",
    "        model.hidden_state_cell_state = (torch.zeros(1,1,model.hidden_size), torch.zeros(1,1,model.hidden_size))\n",
    "        preds.append(model.forward(seq).item())"
   ]
  },
  {
   "cell_type": "code",
   "execution_count": null,
   "id": "40083090",
   "metadata": {},
   "outputs": [],
   "source": [
    "# have to inverse the normalization process on the data:\n",
    "true_predictions = scaler.inverse_transform(np.array(preds).reshape(-1,1))\n",
    "true_predictions"
   ]
  },
  {
   "cell_type": "code",
   "execution_count": null,
   "id": "e8eb35db",
   "metadata": {},
   "outputs": [],
   "source": [
    "x = np.arange('2019-02-01', '2020-02-01', dtype='datetime64[M]')\n",
    "plt.figure(figsize=(16,4))\n",
    "plt.title('Beer, Wine, and Alcohol Sales')\n",
    "plt.ylabel('Sales')\n",
    "plt.grid(True)\n",
    "plt.autoscale(axis='x', tight=True)\n",
    "plt.plot(df['S4248SM144NCEN'])\n",
    "plt.plot(x, true_predictions[window_size:])\n",
    "plt.show()"
   ]
  },
  {
   "cell_type": "code",
   "execution_count": null,
   "id": "fdb081a8",
   "metadata": {},
   "outputs": [],
   "source": [
    "plt.figure(figsize=(16,4))\n",
    "plt.title('Beer, Wine, and Alcohol Sales')\n",
    "plt.ylabel('Sales')\n",
    "plt.grid(True)\n",
    "plt.autoscale(axis='x', tight=True)\n",
    "plt.plot(df['S4248SM144NCEN']['2017-01-01':])\n",
    "plt.plot(x, true_predictions[window_size:])\n",
    "plt.show()"
   ]
  },
  {
   "cell_type": "code",
   "execution_count": null,
   "id": "36bb165b",
   "metadata": {},
   "outputs": [],
   "source": []
  },
  {
   "cell_type": "code",
   "execution_count": null,
   "id": "ce62e377",
   "metadata": {},
   "outputs": [],
   "source": []
  },
  {
   "cell_type": "code",
   "execution_count": null,
   "id": "9faf4dfb",
   "metadata": {},
   "outputs": [],
   "source": []
  }
 ],
 "metadata": {
  "kernelspec": {
   "display_name": "Python 3.8.11 ('myMLEnv')",
   "language": "python",
   "name": "python3"
  },
  "language_info": {
   "codemirror_mode": {
    "name": "ipython",
    "version": 3
   },
   "file_extension": ".py",
   "mimetype": "text/x-python",
   "name": "python",
   "nbconvert_exporter": "python",
   "pygments_lexer": "ipython3",
   "version": "3.8.11"
  },
  "vscode": {
   "interpreter": {
    "hash": "418a5ed4ed6d8198b840b61453495c26d507d70d3841dd181a7388aaa4474a5c"
   }
  }
 },
 "nbformat": 4,
 "nbformat_minor": 5
}
