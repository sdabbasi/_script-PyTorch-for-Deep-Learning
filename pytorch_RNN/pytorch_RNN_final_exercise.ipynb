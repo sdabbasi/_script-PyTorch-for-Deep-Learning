{
 "cells": [
  {
   "cell_type": "code",
   "execution_count": null,
   "id": "b244d900",
   "metadata": {},
   "outputs": [],
   "source": [
    "import torch\n",
    "import torch.nn as nn\n",
    "from sklearn.preprocessing import MinMaxScaler\n",
    "\n",
    "import numpy as np\n",
    "import pandas as pd\n",
    "import matplotlib.pyplot as plt\n",
    "\n",
    "# this is for plotting datetime values in matplotlib\n",
    "from pandas.plotting import register_matplotlib_converters\n",
    "register_matplotlib_converters()"
   ]
  },
  {
   "cell_type": "code",
   "execution_count": null,
   "id": "bd820038",
   "metadata": {},
   "outputs": [],
   "source": [
    "df = pd.read_csv('../data/rnn_files/TimeSeriesData/Energy_Production.csv', index_col=0, parse_dates=True)\n",
    "df.dropna(inplace=True)\n",
    "print(len(df))\n",
    "df.head()"
   ]
  },
  {
   "cell_type": "code",
   "execution_count": null,
   "id": "c4d3bb66",
   "metadata": {},
   "outputs": [],
   "source": [
    "plt.figure(figsize=(16,4))\n",
    "plt.title('Industrial protection for eletriciteis and gas utilities')\n",
    "plt.ylabel('Index 2012=100, Not seasonally adjusted')\n",
    "plt.grid(True)\n",
    "plt.autoscale(axis='x', tight=True)\n",
    "plt.plot(df['IPG2211A2N'])\n",
    "plt.show()"
   ]
  },
  {
   "cell_type": "code",
   "execution_count": null,
   "id": "e771b73c",
   "metadata": {},
   "outputs": [],
   "source": [
    "y = df['IPG2211A2N'].values.astype(float)"
   ]
  },
  {
   "cell_type": "code",
   "execution_count": null,
   "id": "67f8cc7a",
   "metadata": {},
   "outputs": [],
   "source": [
    "window_size = 12\n",
    "test_size = 12\n",
    "\n",
    "train_set = y[:-window_size]\n",
    "test_set = y[-window_size:]\n",
    "\n",
    "print(f'Train: {len(train_set)}')\n",
    "print(f'Test: {len(test_set)}')"
   ]
  },
  {
   "cell_type": "code",
   "execution_count": null,
   "id": "13a7bfe0",
   "metadata": {},
   "outputs": [],
   "source": [
    "scalar = MinMaxScaler(feature_range=(-1,1))\n",
    "train_norm = scalar.fit_transform(train_set.reshape(-1,1))\n",
    "\n",
    "print(train_set[0])\n",
    "print(train_norm[0])"
   ]
  },
  {
   "cell_type": "code",
   "execution_count": null,
   "id": "a38021c5",
   "metadata": {},
   "outputs": [],
   "source": [
    "def prepare_seq_data(data, window_size):\n",
    "    out = []\n",
    "    for i in range(len(data)-window_size):\n",
    "        window = data[i:i+window_size]\n",
    "        label = data[i+window_size:i+window_size+1]     #this form is extendable by adding more than 1 to the window size\n",
    "        out.append((window,label))\n",
    "    return out"
   ]
  },
  {
   "cell_type": "code",
   "execution_count": null,
   "id": "f9634413",
   "metadata": {},
   "outputs": [],
   "source": [
    "train_norm = torch.FloatTensor(train_norm).view(-1)\n",
    "train_data = prepare_seq_data(train_norm, window_size)\n",
    "len(train_data)"
   ]
  },
  {
   "cell_type": "code",
   "execution_count": null,
   "id": "43435b4a",
   "metadata": {},
   "outputs": [],
   "source": []
  },
  {
   "cell_type": "code",
   "execution_count": null,
   "id": "97e3cf00",
   "metadata": {},
   "outputs": [],
   "source": [
    "class LSTMNet(nn.Module):\n",
    "    def __init__(self, input_size=1, hidden_size=64, out_size=1):\n",
    "        super().__init__()\n",
    "        self.hidden_size = hidden_size\n",
    "        \n",
    "        # Add lstm layer\n",
    "        self.lstm = nn.LSTM(input_size, hidden_size)\n",
    "        \n",
    "        # Add fully_connected layer\n",
    "        self.linear = nn.Linear(hidden_size, out_size)\n",
    "        \n",
    "        # placeholder for hidden-state h and cell-state c\n",
    "        self.hidden_state_cell_state = (torch.zeros(1,1,hidden_size), torch.zeros(1,1,hidden_size))\n",
    "        \n",
    "    def forward(self, data_seq):\n",
    "        lstm_out, self.hidden_state_cell_state = self.lstm(data_seq.view(len(data_seq),1,-1), self.hidden_state_cell_state)\n",
    "        pred = self.linear(lstm_out.view(len(data_seq),-1)[-1])\n",
    "        return pred"
   ]
  },
  {
   "cell_type": "code",
   "execution_count": null,
   "id": "d6423ced",
   "metadata": {},
   "outputs": [],
   "source": [
    "torch.manual_seed(101)\n",
    "model = LSTMNet()\n",
    "criterion = nn.MSELoss()\n",
    "optimizer = torch.optim.Adam(model.parameters(), lr=0.001)\n",
    "model"
   ]
  },
  {
   "cell_type": "code",
   "execution_count": null,
   "id": "1a783bf4",
   "metadata": {},
   "outputs": [],
   "source": [
    "import time\n",
    "start_time = time.time()\n",
    "epochs = 50\n",
    "\n",
    "for i in range(epochs):\n",
    "    for data_seq, y_train in train_data:\n",
    "        optimizer.zero_grad()\n",
    "        model.hidden_state_cell_state = (torch.zeros(1,1,model.hidden_size), torch.zeros(1,1,model.hidden_size))\n",
    "\n",
    "        y_pred = model.forward(data_seq)\n",
    "        \n",
    "        loss = criterion(y_pred, y_train)\n",
    "        loss.backward()\n",
    "        optimizer.step()\n",
    "        \n",
    "    print(f'Epochs {i} loss:{loss}')\n",
    "\n",
    "duration = time.time() - start_time\n",
    "print(f'training time: {duration/60} mins')"
   ]
  },
  {
   "cell_type": "code",
   "execution_count": null,
   "id": "fe5ab007",
   "metadata": {},
   "outputs": [],
   "source": [
    "future = 12\n",
    "preds = train_norm[-window_size:].tolist()\n",
    "\n",
    "model.eval()\n",
    "for i in range(future):\n",
    "    seq = torch.FloatTensor(preds[-window_size:])\n",
    "    with torch.no_grad():\n",
    "        model.hidden_state_cell_state = (torch.zeros(1,1,model.hidden_size), torch.zeros(1,1,model.hidden_size))\n",
    "        preds.append(model.forward(seq).item())"
   ]
  },
  {
   "cell_type": "code",
   "execution_count": null,
   "id": "ec6fce20",
   "metadata": {},
   "outputs": [],
   "source": [
    "preds[-window_size:]"
   ]
  },
  {
   "cell_type": "code",
   "execution_count": null,
   "id": "b6fc893b",
   "metadata": {},
   "outputs": [],
   "source": [
    "true_predictions = scalar.inverse_transform(np.array(preds[-window_size:]).reshape(-1,1))\n",
    "true_predictions"
   ]
  },
  {
   "cell_type": "code",
   "execution_count": null,
   "id": "500dfa8a",
   "metadata": {},
   "outputs": [],
   "source": [
    "df.index"
   ]
  },
  {
   "cell_type": "code",
   "execution_count": null,
   "id": "d0f6cb82",
   "metadata": {},
   "outputs": [],
   "source": [
    "x = np.arange('2018-02-01', '2019-02-01', dtype='datetime64[M]')\n",
    "plt.figure(figsize=(16,4))\n",
    "plt.title('Industrial protection for eletriciteis and gas utilities')\n",
    "plt.ylabel('Index 2012=100, Not seasonally adjusted')\n",
    "plt.grid(True)\n",
    "plt.autoscale(axis='x', tight=True)\n",
    "plt.plot(df['IPG2211A2N'])\n",
    "plt.plot(x, true_predictions)\n",
    "plt.show()"
   ]
  },
  {
   "cell_type": "code",
   "execution_count": null,
   "id": "aba770fe",
   "metadata": {},
   "outputs": [],
   "source": [
    "x = np.arange('2018-02-01', '2019-02-01', dtype='datetime64[M]')\n",
    "plt.figure(figsize=(16,4))\n",
    "plt.title('Industrial protection for eletriciteis and gas utilities')\n",
    "plt.ylabel('Index 2012=100, Not seasonally adjusted')\n",
    "plt.grid(True)\n",
    "plt.autoscale(axis='x', tight=True)\n",
    "plt.plot(df['IPG2211A2N']['2017-01-01':])\n",
    "plt.plot(x, true_predictions)\n",
    "plt.show()"
   ]
  },
  {
   "cell_type": "code",
   "execution_count": null,
   "id": "e44276d8",
   "metadata": {},
   "outputs": [],
   "source": []
  },
  {
   "cell_type": "code",
   "execution_count": null,
   "id": "0a0f305e",
   "metadata": {},
   "outputs": [],
   "source": []
  }
 ],
 "metadata": {
  "kernelspec": {
   "display_name": "Python 3.8.11 ('myMLEnv')",
   "language": "python",
   "name": "python3"
  },
  "language_info": {
   "codemirror_mode": {
    "name": "ipython",
    "version": 3
   },
   "file_extension": ".py",
   "mimetype": "text/x-python",
   "name": "python",
   "nbconvert_exporter": "python",
   "pygments_lexer": "ipython3",
   "version": "3.8.11"
  },
  "vscode": {
   "interpreter": {
    "hash": "418a5ed4ed6d8198b840b61453495c26d507d70d3841dd181a7388aaa4474a5c"
   }
  }
 },
 "nbformat": 4,
 "nbformat_minor": 5
}
